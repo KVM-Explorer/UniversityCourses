{
 "cells": [
  {
   "cell_type": "markdown",
   "id": "9c0db0b4",
   "metadata": {
    "pycharm": {
     "name": "#%% md\n"
    }
   },
   "source": [
    "# textCNN"
   ]
  },
  {
   "cell_type": "code",
   "execution_count": 1,
   "id": "04ca329a",
   "metadata": {
    "pycharm": {
     "name": "#%%\n"
    }
   },
   "outputs": [],
   "source": [
    "## 1.检验阶段"
   ]
  },
  {
   "cell_type": "markdown",
   "id": "e8f58e3e",
   "metadata": {},
   "source": [
    "### 1.1引入模块库"
   ]
  },
  {
   "cell_type": "code",
   "execution_count": 2,
   "id": "f1479b25",
   "metadata": {
    "pycharm": {
     "name": "#%%\n"
    }
   },
   "outputs": [
    {
     "name": "stdout",
     "output_type": "stream",
     "text": [
      "Enjoy NPL MachineLearning\n"
     ]
    }
   ],
   "source": [
    "from MyModule import Net\n",
    "import cupy as cp"
   ]
  },
  {
   "cell_type": "markdown",
   "id": "c7720c35",
   "metadata": {},
   "source": [
    "### 1.2生成自定义测试数据集\n",
    "格式为：3 batch h=9 w=10 channels=1"
   ]
  },
  {
   "cell_type": "code",
   "execution_count": 3,
   "id": "b8d97637",
   "metadata": {
    "pycharm": {
     "name": "#%%\n"
    }
   },
   "outputs": [],
   "source": [
    "def loadTestData():        \n",
    "    x = cp.random.rand(80).reshape(1,8,10,1)\n",
    "    return x"
   ]
  },
  {
   "cell_type": "markdown",
   "id": "4d848167",
   "metadata": {},
   "source": [
    "### 1.3定义网络结构"
   ]
  },
  {
   "cell_type": "code",
   "execution_count": 4,
   "id": "7e607a95",
   "metadata": {
    "pycharm": {
     "name": "#%%\n"
    }
   },
   "outputs": [],
   "source": [
    "# 卷积层\n",
    "conv1 = Net.Conv(kernal=(3,10,1,2),stride=1)\n",
    "\n",
    "# 激活函数Relu\n",
    "relu1 = Net.Relu()\n",
    "\n",
    "# 池化层\n",
    "max_pooling1 = Net.Pool(ksize=2)\n",
    "\n",
    "# Flatten 层\n",
    "flatten1 = Net.Flatten()\n",
    "\n",
    "# Concat融合\n",
    "concat1 = Net.Concat()\n",
    "\n",
    "# 全连接层\n",
    "fc1 = Net.Fc(6,2)\n",
    "\n",
    "# softmax\n",
    "softmax = Net.Softmax()"
   ]
  },
  {
   "cell_type": "markdown",
   "id": "151afdcb",
   "metadata": {},
   "source": [
    "### 1.4测试网络结构的合理性"
   ]
  },
  {
   "cell_type": "markdown",
   "id": "e87577f0",
   "metadata": {},
   "source": [
    "#### 1.4.1前向传播"
   ]
  },
  {
   "cell_type": "code",
   "execution_count": 5,
   "id": "a32f0af9",
   "metadata": {
    "pycharm": {
     "name": "#%%\n"
    }
   },
   "outputs": [
    {
     "name": "stdout",
     "output_type": "stream",
     "text": [
      "(1,)\n",
      "(1, 8, 10, 1)\n",
      "(3,)\n",
      "(3, 9, 10, 1)\n"
     ]
    }
   ],
   "source": [
    "data = loadTestData()\n",
    "X = data[0:1]\n",
    "Y = cp.random.randint(1,2,1)%2\n",
    "print(Y.shape)\n",
    "print(X.shape)\n",
    "U = [[[\t[0.1],\n",
    "    [0.1],\n",
    "    [0.1],\n",
    "    [0.1],\n",
    "    [0.1],\n",
    "    [0.1],\n",
    "    [0.1],\n",
    "    [0.1],\n",
    "    [0.1],\n",
    "    [0.1]],\n",
    "\n",
    "    [[0.1],\n",
    "    [0.1],\n",
    "    [0.1],\n",
    "    [0.1],\n",
    "    [0.1],\n",
    "    [0.1],\n",
    "    [0.1],\n",
    "    [0.1],\n",
    "    [0.1],\n",
    "    [0.1]],\n",
    "\n",
    "    [[0.1],\n",
    "    [0.1],\n",
    "    [0.1],\n",
    "    [0.1],\n",
    "    [0.1],\n",
    "    [0.1],\n",
    "    [0.1],\n",
    "    [0.1],\n",
    "    [0.1],\n",
    "    [0.1]],\n",
    "\n",
    "    [[0.8],\n",
    "    [0.8],\n",
    "    [0.8],\n",
    "    [0.8],\n",
    "    [0.8],\n",
    "    [0.8],\n",
    "    [0.8],\n",
    "    [0.8],\n",
    "    [0.8],\n",
    "    [0.8]],\n",
    "\n",
    "    [[0.8],\n",
    "    [0.8],\n",
    "    [0.8],\n",
    "    [0.8],\n",
    "    [0.8],\n",
    "    [0.8],\n",
    "    [0.8],\n",
    "    [0.8],\n",
    "    [0.8],\n",
    "    [0.8]],\n",
    "\n",
    "    [[0.8],\n",
    "    [0.8],\n",
    "    [0.8],\n",
    "    [0.8],\n",
    "    [0.8],\n",
    "    [0.8],\n",
    "    [0.8],\n",
    "    [0.8],\n",
    "    [0.8],\n",
    "    [0.8]],\n",
    "\n",
    "      [[0.2],\n",
    "       [0.2],\n",
    "       [0.2],\n",
    "       [0.2],\n",
    "       [0.2],\n",
    "       [0.2],\n",
    "       [0.2],\n",
    "       [0.2],\n",
    "       [0.2],\n",
    "       [0.2]],\n",
    "\n",
    "      [[0.2],\n",
    "       [0.2],\n",
    "       [0.2],\n",
    "       [0.2],\n",
    "       [0.2],\n",
    "       [0.2],\n",
    "       [0.2],\n",
    "       [0.2],\n",
    "       [0.2],\n",
    "       [0.2]],\n",
    "\n",
    "      [[0.2],\n",
    "       [0.2],\n",
    "       [0.2],\n",
    "       [0.2],\n",
    "       [0.2],\n",
    "       [0.2],\n",
    "       [0.2],\n",
    "       [0.2],\n",
    "       [0.2],\n",
    "       [0.2]]],\n",
    "       # ================================\n",
    "     [[[0.8],\n",
    "       [0.8],\n",
    "       [0.8],\n",
    "       [0.8],\n",
    "       [0.8],\n",
    "       [0.8],\n",
    "       [0.8],\n",
    "       [0.8],\n",
    "       [0.8],\n",
    "       [0.8]],\n",
    "\n",
    "      [[0.8],\n",
    "       [0.8],\n",
    "       [0.8],\n",
    "       [0.8],\n",
    "       [0.8],\n",
    "       [0.8],\n",
    "       [0.8],\n",
    "       [0.8],\n",
    "       [0.8],\n",
    "       [0.8]],\n",
    "\n",
    "      [[0.8],\n",
    "       [0.8],\n",
    "       [0.8],\n",
    "       [0.8],\n",
    "       [0.8],\n",
    "       [0.8],\n",
    "       [0.8],\n",
    "       [0.8],\n",
    "       [0.8],\n",
    "       [0.8]],\n",
    "\n",
    "      [[0.1],\n",
    "       [0.1],\n",
    "       [0.1],\n",
    "       [0.1],\n",
    "       [0.1],\n",
    "       [0.1],\n",
    "       [0.1],\n",
    "       [0.1],\n",
    "       [0.1],\n",
    "       [0.1]],\n",
    "\n",
    "      [[0.1],\n",
    "       [0.1],\n",
    "       [0.1],\n",
    "       [0.1],\n",
    "       [0.1],\n",
    "       [0.1],\n",
    "       [0.1],\n",
    "       [0.1],\n",
    "       [0.1],\n",
    "       [0.1]],\n",
    "\n",
    "      [[0.1],\n",
    "       [0.1],\n",
    "       [0.1],\n",
    "       [0.1],\n",
    "       [0.1],\n",
    "       [0.1],\n",
    "       [0.1],\n",
    "       [0.1],\n",
    "       [0.1],\n",
    "       [0.1]],\n",
    "\n",
    "      [[0.1],\n",
    "       [0.1],\n",
    "       [0.1],\n",
    "       [0.1],\n",
    "       [0.1],\n",
    "       [0.1],\n",
    "       [0.1],\n",
    "       [0.1],\n",
    "       [0.1],\n",
    "       [0.1]],\n",
    "\n",
    "      [[0.1],\n",
    "       [0.1],\n",
    "       [0.1],\n",
    "       [0.1],\n",
    "       [0.1],\n",
    "       [0.1],\n",
    "       [0.1],\n",
    "       [0.1],\n",
    "       [0.1],\n",
    "       [0.1]],\n",
    "\n",
    "      [[0.1],\n",
    "       [0.1],\n",
    "       [0.1],\n",
    "       [0.1],\n",
    "       [0.1],\n",
    "       [0.1],\n",
    "       [0.1],\n",
    "       [0.1],\n",
    "       [0.1],\n",
    "       [0.1]]],\n",
    "       #===========================================\n",
    "     [[[0.3],\n",
    "       [0.3],\n",
    "       [0.3],\n",
    "       [0.3],\n",
    "       [0.3],\n",
    "       [0.3],\n",
    "       [0.3],\n",
    "       [0.3],\n",
    "       [0.3],\n",
    "       [0.3]],\n",
    "\n",
    "      [[0.3],\n",
    "       [0.3],\n",
    "       [0.3],\n",
    "       [0.3],\n",
    "       [0.3],\n",
    "       [0.3],\n",
    "       [0.3],\n",
    "       [0.3],\n",
    "       [0.3],\n",
    "       [0.3]],\n",
    "\n",
    "      [[0.3],\n",
    "       [0.3],\n",
    "       [0.3],\n",
    "       [0.3],\n",
    "       [0.3],\n",
    "       [0.3],\n",
    "       [0.3],\n",
    "       [0.3],\n",
    "       [0.3],\n",
    "       [0.3]],\n",
    "\n",
    "      [[0.2],\n",
    "       [0.2],\n",
    "       [0.2],\n",
    "       [0.2],\n",
    "       [0.2],\n",
    "       [0.2],\n",
    "       [0.2],\n",
    "       [0.2],\n",
    "       [0.2],\n",
    "       [0.2]],\n",
    "\n",
    "      [[0.1],\n",
    "       [0.1],\n",
    "       [0.1],\n",
    "       [0.1],\n",
    "       [0.1],\n",
    "       [0.1],\n",
    "       [0.1],\n",
    "       [0.1],\n",
    "       [0.1],\n",
    "       [0.1]],\n",
    "\n",
    "      [[0.1],\n",
    "       [0.1],\n",
    "       [0.1],\n",
    "       [0.1],\n",
    "       [0.1],\n",
    "       [0.1],\n",
    "       [0.1],\n",
    "       [0.1],\n",
    "       [0.1],\n",
    "       [0.1]],\n",
    "\n",
    "      [[0.6],\n",
    "       [0.6],\n",
    "       [0.6],\n",
    "       [0.6],\n",
    "       [0.6],\n",
    "       [0.6],\n",
    "       [0.6],\n",
    "       [0.6],\n",
    "       [0.6],\n",
    "       [0.6]],\n",
    "\n",
    "      [[0.6],\n",
    "       [0.6],\n",
    "       [0.6],\n",
    "       [0.6],\n",
    "       [0.6],\n",
    "       [0.6],\n",
    "       [0.6],\n",
    "       [0.6],\n",
    "       [0.6],\n",
    "       [0.6]],\n",
    "\n",
    "      [[0.6],\n",
    "       [0.6],\n",
    "       [0.6],\n",
    "       [0.6],\n",
    "       [0.6],\n",
    "       [0.6],\n",
    "       [0.6],\n",
    "       [0.6],\n",
    "       [0.6],\n",
    "       [0.6]]]]\n",
    "X = cp.array(U)\n",
    "Y = cp.array([0,1,1])\n",
    "print(Y.shape)\n",
    "print(X.shape)\n",
    "# for i in range(Y.shape[0]):\n",
    "#     if Y[i]==0: Y[i]=-1\n",
    "    # print(Y[i])"
   ]
  },
  {
   "cell_type": "code",
   "execution_count": 10,
   "id": "08c5a5bb",
   "metadata": {
    "pycharm": {
     "name": "#%%\n"
    }
   },
   "outputs": [
    {
     "name": "stdout",
     "output_type": "stream",
     "text": [
      "(3, 7, 1, 2)\n",
      "(3, 7, 1, 2)\n",
      "(3, 3, 1, 2)\n",
      "(3, 6, 1)\n",
      "(3, 1, 6)\n",
      "(3, 2)\n",
      "loss:0.980206287628396 delta:[[ 0.64193537  0.35806463]\n",
      " [-0.35806463 -0.64193537]\n",
      " [-0.35806463 -0.64193537]]\n"
     ]
    }
   ],
   "source": [
    "# def Forward(X,Y):\n",
    "# 卷积\n",
    "forward1 = conv1.forward(X)\n",
    "print(forward1.shape)\n",
    "# relu\n",
    "forward1 = relu1.forward(forward1)\n",
    "print(forward1.shape)\n",
    "# 池化\n",
    "forward1 = max_pooling1.forward(forward1)\n",
    "print(forward1.shape)\n",
    "# flatten\n",
    "forward1 = flatten1.forward(forward1)\n",
    "print(forward1.shape)\n",
    "# print(forward2.shape)\n",
    "# print(forward3.shape)\n",
    "# concate\n",
    "# forward = concat1.forward(forward1,forward2,forward3)\n",
    "forward = forward1.reshape((3,1,-1))\n",
    "print(forward.shape)\n",
    "# 全连接\n",
    "forward = fc1.forward(forward)\n",
    "print(forward.shape)\n",
    "# softmax\n",
    "loss,delta = softmax.calcuteLoss(forward,Y)\n",
    "predict = softmax.predict(forward)\n",
    "right = 0\n",
    "# print(predict.shape)\n",
    "for i in range(3):\n",
    "    if cp.argmax(predict[i])==Y[i] :\n",
    "        right = right + 1\n",
    "#     return loss,delta,right/3\n",
    "# print(f\"softmax_layer:{delta.shape}\" )\n",
    "print(f\"loss:{loss} delta:{delta}\")"
   ]
  },
  {
   "cell_type": "markdown",
   "id": "330571c9",
   "metadata": {},
   "source": [
    "#### 1.4.2反向传播"
   ]
  },
  {
   "cell_type": "raw",
   "id": "17d06ab5",
   "metadata": {},
   "source": [
    "学习率设置"
   ]
  },
  {
   "cell_type": "code",
   "execution_count": 7,
   "id": "5c4db670",
   "metadata": {
    "pycharm": {
     "name": "#%%\n"
    }
   },
   "outputs": [],
   "source": [
    "learning_rate = 0.1"
   ]
  },
  {
   "cell_type": "code",
   "execution_count": 11,
   "id": "d519867e",
   "metadata": {
    "pycharm": {
     "name": "#%%\n"
    }
   },
   "outputs": [
    {
     "name": "stdout",
     "output_type": "stream",
     "text": [
      "(3, 2)\n",
      "fc:(3, 6)\n",
      "(3, 6)\n"
     ]
    }
   ],
   "source": [
    "# def Backward(delta):\n",
    "    # 全连接\n",
    "print(delta.shape)\n",
    "backward = fc1.backward(delta,learning_rate)\n",
    "print(f\"fc:{backward.shape}\")\n",
    "# concate\n",
    "#backward1,backward2,backward3 =  concat1.backward(backward) \n",
    "backward1 = backward.reshape((3,-1))\n",
    "print(backward1.shape)\n",
    "# print(f\"concate:{backward1.shape} {backward2.shape} {backward3.shape}\")\n",
    "# flatten\n",
    "backward1 = flatten1.backward(backward1)\n",
    "# print(f\"flatten1:{backward1.shape} flatten2:{backward2.shape} flatten3:{backward3.shape}\")\n",
    "# 池化\n",
    "backward1 = max_pooling1.backward(backward1)\n",
    "# print(f\"pool1:{backward1.shape} pool2:{backward2.shape} pool3:{backward3.shape}\")\n",
    "# relu\n",
    "backward1 = relu1.backward(backward1)\n",
    "# 卷积\n",
    "backward1 = conv1.backward(backward1,learning_rate)\n",
    "#     print(f\"反向传播完成\")"
   ]
  },
  {
   "cell_type": "markdown",
   "id": "021aabb3",
   "metadata": {},
   "source": [
    "#### 1.4.3训练结果和损失展示"
   ]
  },
  {
   "cell_type": "code",
   "execution_count": 9,
   "id": "7b0c31f7",
   "metadata": {
    "pycharm": {
     "name": "#%%\n"
    }
   },
   "outputs": [
    {
     "ename": "NameError",
     "evalue": "name 'Forward' is not defined",
     "output_type": "error",
     "traceback": [
      "\u001B[0;31m---------------------------------------------------------------------------\u001B[0m",
      "\u001B[0;31mNameError\u001B[0m                                 Traceback (most recent call last)",
      "\u001B[0;32m/tmp/ipykernel_12257/2865261791.py\u001B[0m in \u001B[0;36m<module>\u001B[0;34m\u001B[0m\n\u001B[1;32m      2\u001B[0m     \u001B[0mdata\u001B[0m \u001B[0;34m=\u001B[0m \u001B[0mloadTestData\u001B[0m\u001B[0;34m(\u001B[0m\u001B[0;34m)\u001B[0m\u001B[0;34m\u001B[0m\u001B[0;34m\u001B[0m\u001B[0m\n\u001B[1;32m      3\u001B[0m \u001B[0;34m\u001B[0m\u001B[0m\n\u001B[0;32m----> 4\u001B[0;31m     \u001B[0mloss\u001B[0m\u001B[0;34m,\u001B[0m\u001B[0mdelta\u001B[0m\u001B[0;34m,\u001B[0m\u001B[0mright_rate\u001B[0m\u001B[0;34m=\u001B[0m \u001B[0mForward\u001B[0m\u001B[0;34m(\u001B[0m\u001B[0mX\u001B[0m\u001B[0;34m,\u001B[0m\u001B[0mY\u001B[0m\u001B[0;34m)\u001B[0m\u001B[0;34m\u001B[0m\u001B[0;34m\u001B[0m\u001B[0m\n\u001B[0m\u001B[1;32m      5\u001B[0m     \u001B[0mBackward\u001B[0m\u001B[0;34m(\u001B[0m\u001B[0mdelta\u001B[0m\u001B[0;34m)\u001B[0m\u001B[0;34m\u001B[0m\u001B[0;34m\u001B[0m\u001B[0m\n\u001B[1;32m      6\u001B[0m     \u001B[0;32mif\u001B[0m\u001B[0;34m(\u001B[0m\u001B[0mi\u001B[0m\u001B[0;34m%\u001B[0m\u001B[0;36m100\u001B[0m\u001B[0;34m==\u001B[0m\u001B[0;36m0\u001B[0m\u001B[0;34m)\u001B[0m \u001B[0;34m:\u001B[0m \u001B[0mprint\u001B[0m\u001B[0;34m(\u001B[0m\u001B[0;34mf\"epoch:{i}/{100} loss:{loss} right_rate :{right_rate} softmax:{softmax.softmax}\"\u001B[0m\u001B[0;34m)\u001B[0m\u001B[0;34m\u001B[0m\u001B[0;34m\u001B[0m\u001B[0m\n",
      "\u001B[0;31mNameError\u001B[0m: name 'Forward' is not defined"
     ]
    }
   ],
   "source": [
    "for i in range(1001):\n",
    "    data = loadTestData()\n",
    "   \n",
    "    loss,delta,right_rate= Forward(X,Y)\n",
    "    Backward(delta)\n",
    "    if(i%100==0) : print(f\"epoch:{i}/{100} loss:{loss} right_rate :{right_rate} softmax:{softmax.softmax}\")"
   ]
  },
  {
   "cell_type": "markdown",
   "id": "1c3c60de",
   "metadata": {},
   "source": [
    "## 2.实际训练阶段"
   ]
  },
  {
   "cell_type": "markdown",
   "id": "4aa01563",
   "metadata": {},
   "source": [
    "### 2.1 导入数据集 "
   ]
  },
  {
   "cell_type": "markdown",
   "id": "0158bf50",
   "metadata": {},
   "source": [
    "## 3. 模型调优阶段"
   ]
  }
 ],
 "metadata": {
  "kernelspec": {
   "display_name": "Python 3 (ipykernel)",
   "language": "python",
   "name": "python3"
  },
  "language_info": {
   "codemirror_mode": {
    "name": "ipython",
    "version": 3
   },
   "file_extension": ".py",
   "mimetype": "text/x-python",
   "name": "python",
   "nbconvert_exporter": "python",
   "pygments_lexer": "ipython3",
   "version": "3.8.10"
  }
 },
 "nbformat": 4,
 "nbformat_minor": 5
}