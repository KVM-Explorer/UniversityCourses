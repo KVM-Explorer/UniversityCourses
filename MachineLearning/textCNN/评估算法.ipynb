{
 "cells": [
  {
   "cell_type": "markdown",
   "id": "216b79ce",
   "metadata": {},
   "source": [
    "#### 损失变化图"
   ]
  },
  {
   "cell_type": "code",
   "execution_count": null,
   "id": "fc2f7a62",
   "metadata": {
    "collapsed": false,
    "jupyter": {
     "outputs_hidden": false
    },
    "pycharm": {
     "name": "#%%\n"
    }
   },
   "outputs": [],
   "source": [
    "import matplotlib.pyplot as plt\n",
    "import numpy as np\n",
    "axis_x = np.load(\"./Data/evaluate/\n",
    "loss_y = cp.asarray(loss_y)\n",
    "plt.plot(axis_x,loss_y)"
   ]
  },
  {
   "cell_type": "markdown",
   "id": "b13d7db3",
   "metadata": {},
   "source": [
    "#### 混淆矩阵"
   ]
  },
  {
   "cell_type": "code",
   "execution_count": null,
   "id": "dc8a10a8",
   "metadata": {
    "collapsed": false,
    "jupyter": {
     "outputs_hidden": false
    },
    "pycharm": {
     "name": "#%%\n"
    }
   },
   "outputs": [],
   "source": []
  },
  {
   "cell_type": "markdown",
   "id": "c7d5dbdc",
   "metadata": {},
   "source": [
    "#### 准确率"
   ]
  },
  {
   "cell_type": "code",
   "execution_count": null,
   "id": "7a9fc128",
   "metadata": {
    "collapsed": false,
    "jupyter": {
     "outputs_hidden": false
    },
    "pycharm": {
     "name": "#%%\n"
    }
   },
   "outputs": [],
   "source": []
  },
  {
   "cell_type": "markdown",
   "id": "aec3f2f1",
   "metadata": {},
   "source": [
    "#### 精确率（精准率）"
   ]
  },
  {
   "cell_type": "code",
   "execution_count": null,
   "id": "663112e0",
   "metadata": {
    "collapsed": false,
    "jupyter": {
     "outputs_hidden": false
    },
    "pycharm": {
     "name": "#%%\n"
    }
   },
   "outputs": [],
   "source": []
  },
  {
   "cell_type": "markdown",
   "id": "db217951",
   "metadata": {},
   "source": [
    "#### 召回率"
   ]
  },
  {
   "cell_type": "code",
   "execution_count": null,
   "id": "26b74eb0",
   "metadata": {
    "collapsed": false,
    "jupyter": {
     "outputs_hidden": false
    },
    "pycharm": {
     "name": "#%%\n"
    }
   },
   "outputs": [],
   "source": []
  },
  {
   "cell_type": "markdown",
   "id": "53496420",
   "metadata": {},
   "source": [
    "#### F1值"
   ]
  },
  {
   "cell_type": "code",
   "execution_count": null,
   "id": "f3e8287a",
   "metadata": {
    "collapsed": false,
    "jupyter": {
     "outputs_hidden": false
    },
    "pycharm": {
     "name": "#%%\n"
    }
   },
   "outputs": [],
   "source": []
  },
  {
   "cell_type": "markdown",
   "id": "02957777",
   "metadata": {},
   "source": [
    "ROC曲线"
   ]
  },
  {
   "cell_type": "code",
   "execution_count": null,
   "id": "8b8e3c15",
   "metadata": {
    "collapsed": false,
    "jupyter": {
     "outputs_hidden": false
    },
    "pycharm": {
     "name": "#%%\n"
    }
   },
   "outputs": [],
   "source": []
  },
  {
   "cell_type": "markdown",
   "id": "7e0874e9",
   "metadata": {},
   "source": [
    "AUC值"
   ]
  },
  {
   "cell_type": "code",
   "execution_count": null,
   "id": "315cae9f",
   "metadata": {
    "collapsed": false,
    "jupyter": {
     "outputs_hidden": false
    },
    "pycharm": {
     "name": "#%%\n"
    }
   },
   "outputs": [],
   "source": []
  },
  {
   "cell_type": "markdown",
   "id": "f6cf8da6",
   "metadata": {},
   "source": [
    "### 训练参考内容"
   ]
  },
  {
   "cell_type": "code",
   "execution_count": null,
   "id": "43f10a2e",
   "metadata": {
    "collapsed": false,
    "jupyter": {
     "outputs_hidden": false
    },
    "pycharm": {
     "name": "#%%\n"
    }
   },
   "outputs": [],
   "source": [
    "上面在将正负样本的时候其实已经提到了相关的内容。\n",
    "\n",
    "当模型训练后的效果较差时，例如准确率低于60%（这个百分比只是个参考，表达大致模型已经初步成型的意思），召回不理想（因为我的应用场景无法评估线上被识别对象的总量，所以召回率没有做评估），那就证明“学习资料”出了问题。\n",
    "\n",
    "如果召回率低，那就要补充正样本，让正样本的共性特征更明显；如果精确率低，那么就补充负样本，一方面要让正负样本由较明显的特征差异，另一方面可以把模型误召回的文本补充到负样本，矫正模型学偏的部分。"
   ]
  }
 ],
 "metadata": {
  "kernelspec": {
   "display_name": "Python 3 (ipykernel)",
   "language": "python",
   "name": "python3"
  },
  "language_info": {
   "codemirror_mode": {
    "name": "ipython",
    "version": 3
   },
   "file_extension": ".py",
   "mimetype": "text/x-python",
   "name": "python",
   "nbconvert_exporter": "python",
   "pygments_lexer": "ipython3",
   "version": "3.8.10"
  },
  "pycharm": {
   "stem_cell": {
    "cell_type": "raw",
    "metadata": {
     "collapsed": false
    },
    "source": [
     "### 训练数据及分类器性能展示\n"
    ]
   }
  }
 },
 "nbformat": 4,
 "nbformat_minor": 5
}