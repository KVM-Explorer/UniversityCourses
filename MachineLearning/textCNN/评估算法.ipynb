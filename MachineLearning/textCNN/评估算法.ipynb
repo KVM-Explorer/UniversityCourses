{
 "cells": [
  {
   "cell_type": "markdown",
   "id": "216b79ce",
   "metadata": {},
   "source": [
    "#### 损失变化图"
   ]
  },
  {
   "cell_type": "code",
   "execution_count": null,
   "id": "fc2f7a62",
   "metadata": {
    "collapsed": false,
    "jupyter": {
     "outputs_hidden": false
    },
    "pycharm": {
     "name": "#%%\n"
    }
   },
   "outputs": [],
   "source": [
    "import matplotlib.pyplot as plt\n",
    "import numpy as np\n",
    "axis_x = np.load(\"./Data/evaluate/\n",
    "loss_y = cp.asarray(loss_y)\n",
    "plt.plot(axis_x,loss_y)"
   ]
  },
  {
   "cell_type": "markdown",
   "id": "b13d7db3",
   "metadata": {},
   "source": [
    "#### 混淆矩阵"
   ]
  },
  {
   "cell_type": "code",
   "execution_count": null,
   "id": "dc8a10a8",
   "metadata": {
    "collapsed": false,
    "jupyter": {
     "outputs_hidden": false
    },
    "pycharm": {
     "name": "#%%\n"
    }
   },
   "outputs": [],
   "source": []
  },
  {
   "cell_type": "markdown",
   "id": "c7d5dbdc",
   "metadata": {},
   "source": [
    "#### 准确率"
   ]
  },
  {
   "cell_type": "code",
   "execution_count": null,
   "id": "7a9fc128",
   "metadata": {
    "collapsed": false,
    "jupyter": {
     "outputs_hidden": false
    },
    "pycharm": {
     "name": "#%%\n"
    }
   },
   "outputs": [],
   "source": []
  },
  {
   "cell_type": "markdown",
   "id": "aec3f2f1",
   "metadata": {},
   "source": [
    "#### 精确率（精准率）"
   ]
  },
  {
   "cell_type": "code",
   "execution_count": null,
   "id": "663112e0",
   "metadata": {
    "collapsed": false,
    "jupyter": {
     "outputs_hidden": false
    },
    "pycharm": {
     "name": "#%%\n"
    }
   },
   "outputs": [],
   "source": []
  },
  {
   "cell_type": "markdown",
   "id": "db217951",
   "metadata": {},
   "source": [
    "#### 召回率"
   ]
  },
  {
   "cell_type": "code",
   "execution_count": null,
   "id": "26b74eb0",
   "metadata": {
    "collapsed": false,
    "jupyter": {
     "outputs_hidden": false
    },
    "pycharm": {
     "name": "#%%\n"
    }
   },
   "outputs": [],
   "source": []
  },
  {
   "cell_type": "markdown",
   "id": "53496420",
   "metadata": {},
   "source": [
    "#### F1值"
   ]
  },
  {
   "cell_type": "code",
   "execution_count": null,
   "id": "f3e8287a",
   "metadata": {
    "collapsed": false,
    "jupyter": {
     "outputs_hidden": false
    },
    "pycharm": {
     "name": "#%%\n"
    }
   },
   "outputs": [],
   "source": []
  },
  {
   "cell_type": "markdown",
   "id": "02957777",
   "metadata": {},
   "source": [
    "ROC曲线"
   ]
  },
  {
   "cell_type": "code",
   "execution_count": null,
   "id": "8b8e3c15",
   "metadata": {
    "collapsed": false,
    "jupyter": {
     "outputs_hidden": false
    },
    "pycharm": {
     "name": "#%%\n"
    }
   },
   "outputs": [],
   "source": []
  },
  {
   "cell_type": "markdown",
   "id": "7e0874e9",
   "metadata": {},
   "source": [
    "AUC值"
   ]
  },
  {
   "cell_type": "code",
   "execution_count": null,
   "id": "315cae9f",
   "metadata": {
    "collapsed": false,
    "jupyter": {
     "outputs_hidden": false
    },
    "pycharm": {
     "name": "#%%\n"
    }
   },
   "outputs": [],
   "source": []
  },
  {
   "cell_type": "markdown",
   "id": "f6cf8da6",
   "metadata": {},
   "source": [
    "### 训练参考内容"
   ]
  },
  {
   "cell_type": "code",
   "execution_count": null,
   "id": "43f10a2e",
   "metadata": {
    "collapsed": false,
    "jupyter": {
     "outputs_hidden": false
    },
    "pycharm": {
     "name": "#%%\n"
    }
   },
   "outputs": [],
   "source": [
    "上面在将正负样本的时候其实已经提到了相关的内容。\n",
    "\n",
    "当模型训练后的效果较差时，例如准确率低于60%（这个百分比只是个参考，表达大致模型已经初步成型的意思），召回不理想（因为我的应用场景无法评估线上被识别对象的总量，所以召回率没有做评估），那就证明“学习资料”出了问题。\n",
    "\n",
    "如果召回率低，那就要补充正样本，让正样本的共性特征更明显；如果精确率低，那么就补充负样本，一方面要让正负样本由较明显的特征差异，另一方面可以把模型误召回的文本补充到负样本，矫正模型学偏的部分。"
   ]
  },
  {
   "cell_type": "code",
   "execution_count": 9,
   "id": "72f181c9-2291-4dc8-9771-87c1f1263b65",
   "metadata": {},
   "outputs": [
    {
     "name": "stdout",
     "output_type": "stream",
     "text": [
      "{'conv1': <MyModule.Net.Conv object at 0x7f3d75fb0bb0>, 'conv2': <MyModule.Net.Conv object at 0x7f3d7e158e20>, 'conv3': <MyModule.Net.Conv object at 0x7f3d7e1584f0>, 'relu1': <MyModule.Net.Relu object at 0x7f3d75c06d60>, 'relu2': <MyModule.Net.Relu object at 0x7f3d75c06b80>, 'relu3': <MyModule.Net.Relu object at 0x7f3d75c69f70>, 'max_pooling1': <MyModule.Net.Pool object at 0x7f3d75c69f10>, 'max_pooling2': <MyModule.Net.Pool object at 0x7f3d75cf9e80>, 'flatten1': <MyModule.Net.Flatten object at 0x7f3d75cf9be0>, 'flatten2': <MyModule.Net.Flatten object at 0x7f3d75cf9ee0>, 'flatten3': <MyModule.Net.Flatten object at 0x7f3d75ddcd30>, 'concat1': <MyModule.Net.Concat object at 0x7f3d75ddcbe0>, 'fc1': <MyModule.Net.Fc object at 0x7f3d75ddc910>, 'softmax': <MyModule.Net.Softmax object at 0x7f3d75ddca60>}\n",
      "[[[[-0.91800309 -0.96905625  1.05005972 ...  1.22177912  0.78594339\n",
      "    -0.07784511]]\n",
      "\n",
      "  [[-0.83446359  1.1919224  -0.05160807 ... -0.74035165  0.26614133\n",
      "     0.26639963]]\n",
      "\n",
      "  [[-0.38252795  1.32442278  1.08999934 ... -0.26546917  1.25299069\n",
      "    -0.66781263]]\n",
      "\n",
      "  ...\n",
      "\n",
      "  [[ 0.19137017 -0.8601563   0.11223904 ... -1.36044036 -1.86724723\n",
      "     1.21641379]]\n",
      "\n",
      "  [[ 0.72454777  0.37685847  1.51817478 ...  0.8340172   0.2589109\n",
      "    -0.0788413 ]]\n",
      "\n",
      "  [[-1.24823587 -0.06058584  0.538807   ... -0.89100121 -0.51963636\n",
      "     0.19939689]]]\n",
      "\n",
      "\n",
      " [[[-2.32762048 -0.38449691 -1.755684   ... -1.88490089  0.08013624\n",
      "     0.06336401]]\n",
      "\n",
      "  [[-1.10055128  0.37168477  0.41305519 ... -0.20304639 -0.58281869\n",
      "     1.4128464 ]]\n",
      "\n",
      "  [[-0.40694369 -0.57631813 -0.95538483 ...  1.04421151  2.50160534\n",
      "     1.72503935]]\n",
      "\n",
      "  ...\n",
      "\n",
      "  [[-0.07967022 -0.59100321  0.15099669 ...  1.76962901  0.4426815\n",
      "    -0.22710982]]\n",
      "\n",
      "  [[ 0.34346921 -1.64878617 -0.40454159 ... -0.58182837 -0.17478576\n",
      "    -1.16378695]]\n",
      "\n",
      "  [[-0.95970641 -0.88368833 -0.22735898 ... -0.30344808 -1.52926898\n",
      "    -2.16724847]]]\n",
      "\n",
      "\n",
      " [[[-0.19677868 -0.74213312 -0.51342124 ... -1.05731786 -1.05124549\n",
      "     1.38592378]]\n",
      "\n",
      "  [[-0.34902567 -0.79972351  0.55843549 ...  0.73343975  0.52282612\n",
      "    -0.58726386]]\n",
      "\n",
      "  [[-0.9921314   3.03843782 -0.35816361 ... -0.05124713  1.23068481\n",
      "    -1.00823181]]\n",
      "\n",
      "  ...\n",
      "\n",
      "  [[-0.84071209 -0.26737666 -1.1981029  ... -1.11660884  0.42784284\n",
      "     0.29068027]]\n",
      "\n",
      "  [[-0.21479136 -1.23101744 -1.016599   ... -0.28896233  1.3815402\n",
      "     2.43432095]]\n",
      "\n",
      "  [[ 0.12475412 -1.32742407 -1.58030438 ...  0.44775352  0.71962826\n",
      "    -1.5187918 ]]]]\n"
     ]
    }
   ],
   "source": [
    "import pickle\n",
    "with open(\"Model.pkl\",'rb') as file:\n",
    "    LayerDict  = pickle.loads(file.read())\n",
    "print(LayerDict)\n",
    "conv1 = LayerDict['conv1']\n",
    "print(conv1.kernal)"
   ]
  },
  {
   "cell_type": "code",
   "execution_count": null,
   "id": "68b8bf88-78f7-497f-889d-05810cfe62ff",
   "metadata": {},
   "outputs": [],
   "source": []
  }
 ],
 "metadata": {
  "kernelspec": {
   "display_name": "Python 3 (ipykernel)",
   "language": "python",
   "name": "python3"
  },
  "language_info": {
   "codemirror_mode": {
    "name": "ipython",
    "version": 3
   },
   "file_extension": ".py",
   "mimetype": "text/x-python",
   "name": "python",
   "nbconvert_exporter": "python",
   "pygments_lexer": "ipython3",
   "version": "3.8.10"
  },
  "pycharm": {
   "stem_cell": {
    "cell_type": "raw",
    "metadata": {
     "collapsed": false
    },
    "source": [
     "### 训练数据及分类器性能展示\n"
    ]
   }
  }
 },
 "nbformat": 4,
 "nbformat_minor": 5
}
