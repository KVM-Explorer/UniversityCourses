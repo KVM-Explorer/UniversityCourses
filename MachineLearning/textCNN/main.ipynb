{
 "cells": [
  {
   "cell_type": "code",
   "execution_count": 7,
   "id": "151afe5e-8081-482f-9b57-d35b80756767",
   "metadata": {},
   "outputs": [],
   "source": [
    "from MyModule import Net"
   ]
  },
  {
   "cell_type": "code",
   "execution_count": 8,
   "id": "06b306e1-bfd7-4c18-b8d0-dd902ba545a4",
   "metadata": {},
   "outputs": [],
   "source": [
    "#def loadTestData():"
   ]
  },
  {
   "cell_type": "raw",
   "id": "94730e23-69a8-4d44-a6a8-dbae8bbea322",
   "metadata": {},
   "source": [
    "输入数据为 3 组 h=9 w=10 channel = 1"
   ]
  },
  {
   "cell_type": "code",
   "execution_count": 10,
   "id": "979c4d43-88fc-40d0-a869-ec631574ccea",
   "metadata": {
    "tags": []
   },
   "outputs": [],
   "source": [
    "def train():\n",
    "\n",
    "    # data =\n",
    "    # 卷积层\n",
    "    conv1 = Net.Conv(kernal=(3,6,1,2),stride=1)\n",
    "    conv2 = Net.Conv(kernal=(4,6,1,2),stride=1)\n",
    "    conv3 = Net.Conv(kernal=(5,8,1,2),stride=1)\n",
    "\n",
    "    #=========================================\n",
    "    # 定义阶段\n",
    "    #=========================================\n",
    "    # 激活函数Relu\n",
    "    relu1 = Net.Relu()\n",
    "    relu2 = Net.Relu()\n",
    "    relu3 = Net.Relu()\n",
    "\n",
    "    # 池化层\n",
    "    max_pooling1 = Net.Pool()\n",
    "    max_pooling2 = Net.Pool()\n",
    "    max_pooling3 = Net.Pool()\n",
    "\n",
    "    # Flatten 层\n",
    "    flatten1 = Net.Flatten()\n",
    "    flatten2 = Net.Flatten()\n",
    "    flatten3 = Net.Flatten()\n",
    "\n",
    "    # Concat融合\n",
    "    concat1 = Net.Concat()\n",
    "\n",
    "    # 全连接层\n",
    "    fc1 = Net.Fc(16,2)\n",
    "\n",
    "    # softmax\n",
    "    softmax = Net.Softmax()"
   ]
  },
  {
   "cell_type": "raw",
   "id": "4143d2a4-e9a1-417d-b611-45e144b4ba02",
   "metadata": {},
   "source": [
    "训练阶段"
   ]
  },
  {
   "cell_type": "code",
   "execution_count": 11,
   "id": "9d18616a-6442-4909-8940-a2bd130dc8fb",
   "metadata": {},
   "outputs": [
    {
     "name": "stdout",
     "output_type": "stream",
     "text": [
      "Hello\n"
     ]
    }
   ],
   "source": [
    "    print(\"Hello\")"
   ]
  },
  {
   "cell_type": "code",
   "execution_count": 13,
   "id": "582e6064-9a0a-415d-999a-08209cf1be0f",
   "metadata": {},
   "outputs": [
    {
     "ename": "AttributeError",
     "evalue": "'tuple' object has no attribute 'shape'",
     "output_type": "error",
     "traceback": [
      "\u001B[0;31m---------------------------------------------------------------------------\u001B[0m",
      "\u001B[0;31mAttributeError\u001B[0m                            Traceback (most recent call last)",
      "\u001B[0;32m/tmp/ipykernel_11382/3364925475.py\u001B[0m in \u001B[0;36m<module>\u001B[0;34m\u001B[0m\n\u001B[0;32m----> 1\u001B[0;31m \u001B[0mtrain\u001B[0m\u001B[0;34m(\u001B[0m\u001B[0;34m)\u001B[0m\u001B[0;34m\u001B[0m\u001B[0;34m\u001B[0m\u001B[0m\n\u001B[0m",
      "\u001B[0;32m/tmp/ipykernel_11382/1138621067.py\u001B[0m in \u001B[0;36mtrain\u001B[0;34m()\u001B[0m\n\u001B[1;32m      3\u001B[0m     \u001B[0;31m# data =\u001B[0m\u001B[0;34m\u001B[0m\u001B[0;34m\u001B[0m\u001B[0;34m\u001B[0m\u001B[0m\n\u001B[1;32m      4\u001B[0m     \u001B[0;31m# 卷积层\u001B[0m\u001B[0;34m\u001B[0m\u001B[0;34m\u001B[0m\u001B[0;34m\u001B[0m\u001B[0m\n\u001B[0;32m----> 5\u001B[0;31m     \u001B[0mconv1\u001B[0m \u001B[0;34m=\u001B[0m \u001B[0mNet\u001B[0m\u001B[0;34m.\u001B[0m\u001B[0mConv\u001B[0m\u001B[0;34m(\u001B[0m\u001B[0mkernal\u001B[0m\u001B[0;34m=\u001B[0m\u001B[0;34m(\u001B[0m\u001B[0;36m3\u001B[0m\u001B[0;34m,\u001B[0m\u001B[0;36m6\u001B[0m\u001B[0;34m,\u001B[0m\u001B[0;36m1\u001B[0m\u001B[0;34m,\u001B[0m\u001B[0;36m2\u001B[0m\u001B[0;34m)\u001B[0m\u001B[0;34m,\u001B[0m\u001B[0mstride\u001B[0m\u001B[0;34m=\u001B[0m\u001B[0;36m1\u001B[0m\u001B[0;34m)\u001B[0m\u001B[0;34m\u001B[0m\u001B[0;34m\u001B[0m\u001B[0m\n\u001B[0m\u001B[1;32m      6\u001B[0m     \u001B[0mconv2\u001B[0m \u001B[0;34m=\u001B[0m \u001B[0mNet\u001B[0m\u001B[0;34m.\u001B[0m\u001B[0mConv\u001B[0m\u001B[0;34m(\u001B[0m\u001B[0mkernal\u001B[0m\u001B[0;34m=\u001B[0m\u001B[0;34m(\u001B[0m\u001B[0;36m4\u001B[0m\u001B[0;34m,\u001B[0m\u001B[0;36m6\u001B[0m\u001B[0;34m,\u001B[0m\u001B[0;36m1\u001B[0m\u001B[0;34m,\u001B[0m\u001B[0;36m2\u001B[0m\u001B[0;34m)\u001B[0m\u001B[0;34m,\u001B[0m\u001B[0mstride\u001B[0m\u001B[0;34m=\u001B[0m\u001B[0;36m1\u001B[0m\u001B[0;34m)\u001B[0m\u001B[0;34m\u001B[0m\u001B[0;34m\u001B[0m\u001B[0m\n\u001B[1;32m      7\u001B[0m     \u001B[0mconv3\u001B[0m \u001B[0;34m=\u001B[0m \u001B[0mNet\u001B[0m\u001B[0;34m.\u001B[0m\u001B[0mConv\u001B[0m\u001B[0;34m(\u001B[0m\u001B[0mkernal\u001B[0m\u001B[0;34m=\u001B[0m\u001B[0;34m(\u001B[0m\u001B[0;36m5\u001B[0m\u001B[0;34m,\u001B[0m\u001B[0;36m8\u001B[0m\u001B[0;34m,\u001B[0m\u001B[0;36m1\u001B[0m\u001B[0;34m,\u001B[0m\u001B[0;36m2\u001B[0m\u001B[0;34m)\u001B[0m\u001B[0;34m,\u001B[0m\u001B[0mstride\u001B[0m\u001B[0;34m=\u001B[0m\u001B[0;36m1\u001B[0m\u001B[0;34m)\u001B[0m\u001B[0;34m\u001B[0m\u001B[0;34m\u001B[0m\u001B[0m\n",
      "\u001B[0;32m~/UniversityCourses/MachineLearning/textCNN/MyModule/Net.py\u001B[0m in \u001B[0;36m__init__\u001B[0;34m(self, kernal, stride)\u001B[0m\n\u001B[1;32m     34\u001B[0m         \u001B[0;34m:\u001B[0m\u001B[0mparam\u001B[0m \u001B[0mkernal\u001B[0m\u001B[0;34m:\u001B[0m \u001B[0mcupy创建的卷积核\u001B[0m\u001B[0;34m(\u001B[0m\u001B[0mW\u001B[0m\u001B[0;34m,\u001B[0m\u001B[0mH\u001B[0m\u001B[0;34m,\u001B[0m\u001B[0mC\u001B[0m\u001B[0;34m,\u001B[0m\u001B[0mnum\u001B[0m\u001B[0;34m)\u001B[0m\u001B[0;34m\u001B[0m\u001B[0;34m\u001B[0m\u001B[0m\n\u001B[1;32m     35\u001B[0m         '''\n\u001B[0;32m---> 36\u001B[0;31m         \u001B[0mwidth\u001B[0m\u001B[0;34m,\u001B[0m\u001B[0mheight\u001B[0m\u001B[0;34m,\u001B[0m\u001B[0min_channels\u001B[0m\u001B[0;34m,\u001B[0m\u001B[0mout_channels\u001B[0m \u001B[0;34m=\u001B[0m \u001B[0mkernal\u001B[0m\u001B[0;34m\u001B[0m\u001B[0;34m\u001B[0m\u001B[0m\n\u001B[0m\u001B[1;32m     37\u001B[0m         \u001B[0mself\u001B[0m\u001B[0;34m.\u001B[0m\u001B[0mk\u001B[0m \u001B[0;34m=\u001B[0m \u001B[0mcp\u001B[0m\u001B[0;34m.\u001B[0m\u001B[0mrandom\u001B[0m\u001B[0;34m.\u001B[0m\u001B[0mstandard_normal\u001B[0m\u001B[0;34m(\u001B[0m\u001B[0mkernal\u001B[0m\u001B[0;34m)\u001B[0m\u001B[0;34m\u001B[0m\u001B[0;34m\u001B[0m\u001B[0m\n\u001B[1;32m     38\u001B[0m         \u001B[0mself\u001B[0m\u001B[0;34m.\u001B[0m\u001B[0mb\u001B[0m \u001B[0;34m=\u001B[0m \u001B[0mcp\u001B[0m\u001B[0;34m.\u001B[0m\u001B[0mrandom\u001B[0m\u001B[0;34m.\u001B[0m\u001B[0mstandard_normal\u001B[0m\u001B[0;34m(\u001B[0m\u001B[0mout_channels\u001B[0m\u001B[0;34m)\u001B[0m\u001B[0;34m\u001B[0m\u001B[0;34m\u001B[0m\u001B[0m\n",
      "\u001B[0;31mAttributeError\u001B[0m: 'tuple' object has no attribute 'shape'"
     ]
    }
   ],
   "source": [
    "train()"
   ]
  },
  {
   "cell_type": "code",
   "execution_count": null,
   "id": "b3fee305-2a17-4801-a70a-875418413573",
   "metadata": {},
   "outputs": [],
   "source": []
  }
 ],
 "metadata": {
  "kernelspec": {
   "display_name": "Python 3 (ipykernel)",
   "language": "python",
   "name": "python3"
  },
  "language_info": {
   "codemirror_mode": {
    "name": "ipython",
    "version": 3
   },
   "file_extension": ".py",
   "mimetype": "text/x-python",
   "name": "python",
   "nbconvert_exporter": "python",
   "pygments_lexer": "ipython3",
   "version": "3.8.10"
  }
 },
 "nbformat": 4,
 "nbformat_minor": 5
}