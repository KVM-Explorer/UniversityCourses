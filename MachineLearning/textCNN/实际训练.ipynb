{
 "cells": [
  {
   "cell_type": "markdown",
   "id": "29a4a1e4-862e-479b-a22e-e84ed2da1d9d",
   "metadata": {
    "pycharm": {
     "name": "#%% md\n"
    }
   },
   "source": [
    "# textCNN"
   ]
  },
  {
   "cell_type": "markdown",
   "id": "f5376fb7-8960-4d9a-afb3-e4a6aed24723",
   "metadata": {
    "jupyter": {
     "outputs_hidden": false
    },
    "pycharm": {
     "name": "#%%\n"
    }
   },
   "source": [
    "## 1.实际训练阶段"
   ]
  },
  {
   "cell_type": "markdown",
   "id": "9ce3f698",
   "metadata": {},
   "source": [
    "### 1.1引入模块库"
   ]
  },
  {
   "cell_type": "code",
   "execution_count": 1,
   "id": "4b68a3a1",
   "metadata": {
    "collapsed": false,
    "jupyter": {
     "outputs_hidden": false
    },
    "pycharm": {
     "name": "#%%\n"
    }
   },
   "outputs": [
    {
     "name": "stdout",
     "output_type": "stream",
     "text": [
      "Enjoy NPL MachineLearning by Yang\n"
     ]
    }
   ],
   "source": [
    "from MyModule import Net\n",
    "import cupy as cp\n",
    "import numpy\n",
    "import matplotlib as plt"
   ]
  },
  {
   "cell_type": "markdown",
   "id": "66b01c4b",
   "metadata": {},
   "source": [
    "### 1.2导入数据集\n",
    "格式为 batch h w channels"
   ]
  },
  {
   "cell_type": "markdown",
   "id": "c14e7566-914a-470d-81de-b3a99a454f66",
   "metadata": {},
   "source": [
    "#### 训练集"
   ]
  },
  {
   "cell_type": "code",
   "execution_count": 2,
   "id": "dcf9215a",
   "metadata": {
    "collapsed": false,
    "jupyter": {
     "outputs_hidden": false
    },
    "pycharm": {
     "name": "#%%\n"
    }
   },
   "outputs": [
    {
     "name": "stdout",
     "output_type": "stream",
     "text": [
      "x_1 shape:(109, 20, 100) x_2 shape; (202, 20, 100)\n",
      "y_1 shape:(109, 2) y_2 shape: (202, 2)\n",
      "(210, 20, 100)\n",
      "(210, 2)\n",
      "(210, 20, 100, 1) (210, 2)\n"
     ]
    }
   ],
   "source": [
    "x_1 = numpy.load('Data/positive.npy',allow_pickle=True)\n",
    "x_2 = numpy.load('Data/negative.npy',allow_pickle=True)\n",
    "y_1 = numpy.repeat([[0,1]],109,axis=0) # 正类\n",
    "y_2 = numpy.repeat([[1,0]],202,axis=0) # 负类\n",
    "print(f\"x_1 shape:{x_1.shape} x_2 shape; {x_2.shape}\")\n",
    "print(f\"y_1 shape:{y_1.shape} y_2 shape: {y_2.shape}\") \n",
    "origin_X = numpy.concatenate((x_1,x_2))\n",
    "origin_Y = numpy.concatenate((y_1,y_2))\n",
    "# 打乱数据集\n",
    "train_X = origin_X[0:210,:,:]\n",
    "train_Y = origin_Y[0:210,:]\n",
    "per = numpy.random.permutation(train_X.shape[0])#打乱后的行号\n",
    "train_x = train_X[per, :, :]#获取打乱后的训练数据\n",
    "train_y = train_Y[per]\n",
    "print(train_x.shape)\n",
    "print(train_y.shape)\n",
    "train_x = train_x.reshape((210,20,100,1))\n",
    "train_x = cp.asarray(train_x)\n",
    "train_y = cp.asarray(train_y)\n",
    "print(train_x.shape,train_y.shape)\n",
    "\n",
    "train_shape = train_x.shape\n"
   ]
  },
  {
   "cell_type": "markdown",
   "id": "9828752a-c1be-4ebb-8eed-629a13dfe322",
   "metadata": {},
   "source": [
    "#### 测试集"
   ]
  },
  {
   "cell_type": "code",
   "execution_count": 3,
   "id": "6f49ec5a-4f68-4dcb-b855-f943fa18a29a",
   "metadata": {},
   "outputs": [
    {
     "name": "stdout",
     "output_type": "stream",
     "text": [
      "Valid X Shape:  (210, 20, 100, 1)\n",
      "Valid Y Shape:  (210, 2)\n"
     ]
    }
   ],
   "source": [
    "valid_X = origin_X[210:,:,:]\n",
    "valid_Y = origin_Y[210:,:]\n",
    "valid_X = numpy.concatenate((x_1,valid_X))\n",
    "valid_Y = numpy.concatenate((y_1,valid_Y))\n",
    "valid_x = cp.asarray(valid_X.reshape(210,20,100,1))\n",
    "valid_y = cp.asarray(valid_Y)\n",
    "valid_shape = valid_x.shape\n",
    "print(\"Valid X Shape: \",valid_x.shape)\n",
    "print(\"Valid Y Shape: \",valid_y.shape)                    "
   ]
  },
  {
   "cell_type": "markdown",
   "id": "2be7a831",
   "metadata": {},
   "source": [
    "### 1.3定义网络结构"
   ]
  },
  {
   "cell_type": "code",
   "execution_count": 4,
   "id": "417350a5",
   "metadata": {
    "collapsed": false,
    "jupyter": {
     "outputs_hidden": false
    },
    "pycharm": {
     "name": "#%%\n"
    }
   },
   "outputs": [],
   "source": [
    "# 卷积层\n",
    "conv1 = Net.Conv(kernal=(3,100,1,10),stride=1)\n",
    "conv2 = Net.Conv(kernal=(4,100,1,10),stride=1)\n",
    "conv3 = Net.Conv(kernal=(5,100,1,10),stride=1)\n",
    "\n",
    "# 激活函数Relu\n",
    "relu1 = Net.Relu()\n",
    "relu2 = Net.Relu()\n",
    "relu3 = Net.Relu()\n",
    "\n",
    "# 池化层\n",
    "max_pooling1 = Net.Pool(ksize=2)\n",
    "max_pooling2 = Net.Pool(ksize=2)\n",
    "max_pooling3 = Net.Pool(ksize=2)\n",
    "\n",
    "# Flatten 层\n",
    "flatten1 = Net.Flatten()\n",
    "flatten2 = Net.Flatten()\n",
    "flatten3 = Net.Flatten()\n",
    "\n",
    "# Concat融合\n",
    "concat1 = Net.Concat()\n",
    "\n",
    "# 全连接层\n",
    "fc1 = Net.Fc(250,2)\n",
    "\n",
    "# softmax\n",
    "softmax = Net.Softmax()"
   ]
  },
  {
   "cell_type": "markdown",
   "id": "a78c8404-3bcc-4852-adcf-01a7e6b6849a",
   "metadata": {},
   "source": [
    "### 定义前向传播函数"
   ]
  },
  {
   "cell_type": "code",
   "execution_count": 5,
   "id": "c7fe92a5",
   "metadata": {
    "collapsed": false,
    "jupyter": {
     "outputs_hidden": false
    },
    "pycharm": {
     "name": "#%%\n"
    }
   },
   "outputs": [],
   "source": [
    "def Forward(X,Y):\n",
    "    # 卷积\n",
    "    forward1 = conv1.forward(X)\n",
    "    forward2 = conv2.forward(X)\n",
    "    forward3 = conv3.forward(X)\n",
    "    # print(forward1.shape)\n",
    "    # relu\n",
    "    forward1 = relu1.forward(forward1)\n",
    "    forward2 = relu2.forward(forward2)\n",
    "    forward3 = relu3.forward(forward3)\n",
    "    # print(forward1.shape)\n",
    "    # 池化\n",
    "    forward1 = max_pooling1.forward(forward1)\n",
    "    forward2 = max_pooling2.forward(forward2)\n",
    "    forward3 = max_pooling3.forward(forward3)\n",
    "    # print(forward1.shape)\n",
    "    # flatten\n",
    "    forward1 = flatten1.forward(forward1)\n",
    "    forward2 = flatten2.forward(forward2)\n",
    "    forward3 = flatten3.forward(forward3)\n",
    "    # print(forward1.shape)\n",
    "    # print(forward2.shape)\n",
    "    # print(forward3.shape)\n",
    "    # concate\n",
    "    forward = concat1.forward(forward1,forward2,forward3)\n",
    "    # print(forward.shape)\n",
    "    # 全连接\n",
    "    forward = fc1.forward(forward)\n",
    "    # print(forward.shape)\n",
    "    # softmax\n",
    "    loss,delta = softmax.calcuteLoss(forward,Y)\n",
    "    predict = softmax.predict(forward)\n",
    "    right = 0\n",
    "    # print(predict.shape)\n",
    "    for i in range(X.shape[0]):\n",
    "        if cp.argmax(predict[i])==cp.argmax(Y[i]) :\n",
    "            right = right + 1\n",
    "    return loss,delta,right/X.shape[0]\n",
    "# print(f\"softmax_layer:{delta.shape}\" )\n",
    "# print(f\"loss:{loss} delta:{delta}\")"
   ]
  },
  {
   "cell_type": "markdown",
   "id": "49700b1c-b480-4720-8f9a-156d68f6e36d",
   "metadata": {},
   "source": [
    "### 定义反向传播函数"
   ]
  },
  {
   "cell_type": "code",
   "execution_count": 6,
   "id": "4be063a5",
   "metadata": {
    "collapsed": false,
    "jupyter": {
     "outputs_hidden": false
    },
    "pycharm": {
     "name": "#%%\n"
    }
   },
   "outputs": [],
   "source": [
    "def Backward(delta,lr):\n",
    "    # 全连接\n",
    "    backward = fc1.backward(delta,lr)\n",
    "    # print(f\"fc:{backward.shape}\")\n",
    "    # concate\n",
    "    backward1,backward2,backward3 =  concat1.backward(backward)\n",
    "    # print(f\"concate:{backward1.shape} {backward2.shape} {backward3.shape}\")\n",
    "    # flatten\n",
    "    backward1 = flatten1.backward(backward1)\n",
    "    backward2 = flatten2.backward(backward2)\n",
    "    backward3 = flatten3.backward(backward3)\n",
    "    # print(f\"flatten1:{backward1.shape} flatten2:{backward2.shape} flatten3:{backward3.shape}\")\n",
    "    # 池化\n",
    "    backward1 = max_pooling1.backward(backward1)\n",
    "    backward2 = max_pooling2.backward(backward2)\n",
    "    backward3 = max_pooling3.backward(backward3)\n",
    "    # print(f\"pool1:{backward1.shape} pool2:{backward2.shape} pool3:{backward3.shape}\")\n",
    "    # relu\n",
    "    backward1 = relu1.backward(backward1)\n",
    "    backward2 = relu2.backward(backward2)\n",
    "    backward3 = relu3.backward(backward3)\n",
    "    # 卷积\n",
    "    backward1 = conv1.backward(backward1,lr)\n",
    "    backward2 = conv2.backward(backward2,lr)\n",
    "    backward3 = conv3.backward(backward3,lr)\n",
    "    # print(f\"反向传播完成\")"
   ]
  },
  {
   "cell_type": "markdown",
   "id": "d27e1ccf",
   "metadata": {},
   "source": [
    "#### 1.4.3训练结果和损失展示"
   ]
  },
  {
   "cell_type": "code",
   "execution_count": 7,
   "id": "d3be8f23",
   "metadata": {
    "collapsed": false,
    "jupyter": {
     "outputs_hidden": false
    },
    "pycharm": {
     "name": "#%%\n"
    },
    "scrolled": true,
    "tags": []
   },
   "outputs": [
    {
     "name": "stdout",
     "output_type": "stream",
     "text": [
      "epoch-0/2-0/311 loss:0.292\n",
      "epoch-0/2-10/311 loss:0.267\n",
      "epoch-0/2-20/311 loss:0.264\n",
      "epoch-0/2-30/311 loss:0.248\n",
      "epoch-0/2-40/311 loss:0.235\n",
      "epoch-0/2-50/311 loss:0.210\n",
      "epoch-0/2-60/311 loss:0.235\n",
      "epoch-0/2-70/311 loss:0.256\n",
      "epoch-0/2-80/311 loss:0.222\n",
      "epoch-0/2-90/311 loss:0.216\n",
      "epoch-0/2-100/311 loss:0.221\n",
      "epoch-0/2-110/311 loss:0.203\n",
      "epoch-0/2-120/311 loss:0.199\n",
      "epoch-0/2-130/311 loss:0.196\n",
      "epoch-0/2-140/311 loss:0.202\n",
      "epoch-0/2-150/311 loss:0.185\n",
      "epoch-0/2-160/311 loss:0.187\n",
      "epoch-0/2-170/311 loss:0.184\n",
      "epoch-0/2-180/311 loss:0.181\n",
      "epoch-0/2-190/311 loss:0.149\n",
      "epoch-0/2-200/311 loss:0.242\n",
      "epoch-1/2-0/311 loss:0.178\n",
      "epoch-1/2-10/311 loss:0.175\n",
      "epoch-1/2-20/311 loss:0.175\n",
      "epoch-1/2-30/311 loss:0.169\n",
      "epoch-1/2-40/311 loss:0.163\n",
      "epoch-1/2-50/311 loss:0.149\n",
      "epoch-1/2-60/311 loss:0.163\n",
      "epoch-1/2-70/311 loss:0.178\n",
      "epoch-1/2-80/311 loss:0.159\n",
      "epoch-1/2-90/311 loss:0.155\n",
      "epoch-1/2-100/311 loss:0.160\n",
      "epoch-1/2-110/311 loss:0.148\n",
      "epoch-1/2-120/311 loss:0.146\n",
      "epoch-1/2-130/311 loss:0.143\n",
      "epoch-1/2-140/311 loss:0.148\n",
      "epoch-1/2-150/311 loss:0.135\n",
      "epoch-1/2-160/311 loss:0.138\n",
      "epoch-1/2-170/311 loss:0.136\n",
      "epoch-1/2-180/311 loss:0.134\n",
      "epoch-1/2-190/311 loss:0.110\n",
      "epoch-1/2-200/311 loss:0.172\n",
      "epoch-2/2-0/311 loss:0.135\n",
      "epoch-2/2-10/311 loss:0.133\n",
      "epoch-2/2-20/311 loss:0.135\n",
      "epoch-2/2-30/311 loss:0.131\n",
      "epoch-2/2-40/311 loss:0.128\n",
      "epoch-2/2-50/311 loss:0.120\n",
      "epoch-2/2-60/311 loss:0.124\n",
      "epoch-2/2-70/311 loss:0.134\n",
      "epoch-2/2-80/311 loss:0.124\n",
      "epoch-2/2-90/311 loss:0.121\n",
      "epoch-2/2-100/311 loss:0.126\n",
      "epoch-2/2-110/311 loss:0.118\n",
      "epoch-2/2-120/311 loss:0.116\n",
      "epoch-2/2-130/311 loss:0.114\n",
      "epoch-2/2-140/311 loss:0.117\n",
      "epoch-2/2-150/311 loss:0.109\n",
      "epoch-2/2-160/311 loss:0.110\n",
      "epoch-2/2-170/311 loss:0.109\n",
      "epoch-2/2-180/311 loss:0.108\n",
      "epoch-2/2-190/311 loss:0.090\n",
      "epoch-2/2-200/311 loss:0.134\n"
     ]
    }
   ],
   "source": [
    "learning_rate = 0.005\n",
    "batch_size = 10\n",
    "epoches =2\n",
    "num = 0\n",
    "axis_x = numpy.array([])\n",
    "loss_y = numpy.array([])\n",
    "for epoch in range(epoches+1):\n",
    "    for i in range(0,valid_shape[0],batch_size): \n",
    "        X = train_x[i:i+batch_size]\n",
    "        Y = train_y[i:i+batch_size]\n",
    "        loss,delta,right_rate= Forward(X,Y)\n",
    "        # print(\"==============================================\")\n",
    "        print(f\"epoch-{epoch}/{epoches}-{i}/{311} loss:{loss:.3f}\")\n",
    "        \n",
    "        Backward(delta,learning_rate)\n",
    "        loss_y = numpy.append(loss_y,loss.astype(numpy.float_))\n",
    "        axis_x = numpy.append(axis_x,num)\n",
    "        num = num +1 \n",
    "        # print(loss_y)\n",
    "        \n",
    "    learning_rate *= 0.95**(epoch+1)\n",
    "    "
   ]
  },
  {
   "cell_type": "markdown",
   "id": "5d4de3d8-fc0d-4a77-badd-1af5025dd1c3",
   "metadata": {},
   "source": [
    "#### 1.4.4 预测结果展示"
   ]
  },
  {
   "cell_type": "code",
   "execution_count": 8,
   "id": "0eb8da7c-d493-4f48-985a-cfc23039437e",
   "metadata": {
    "scrolled": true,
    "tags": []
   },
   "outputs": [
    {
     "name": "stdout",
     "output_type": "stream",
     "text": [
      "right_rate: 100.0%\n"
     ]
    }
   ],
   "source": [
    "\n",
    "batch_size = 1\n",
    "epoches =1\n",
    "count = 0\n",
    "\n",
    "for i in range(0,valid_shape[0],batch_size): \n",
    "    X = valid_x[i:i+batch_size]\n",
    "    Y = valid_y[i:i+batch_size]\n",
    "    loss,delta,right_rate= Forward(X,Y)\n",
    "    if right_rate==1 : count= count+1\n",
    "    # print(right_rate)\n",
    "print(f\"right_rate: {(count/(valid_x.shape[0]))*100}%\")\n"
   ]
  },
  {
   "cell_type": "markdown",
   "id": "a54fa410-d606-4f06-934c-14c62ccd6696",
   "metadata": {},
   "source": [
    "### 训练数据及分类器性能展示"
   ]
  },
  {
   "cell_type": "markdown",
   "id": "6af8b818-15f7-492a-832e-12eaa15fdc83",
   "metadata": {},
   "source": [
    "#### 损失变化图"
   ]
  },
  {
   "cell_type": "code",
   "execution_count": 9,
   "id": "f01c70d4-e041-4bf5-b101-f41db748b338",
   "metadata": {},
   "outputs": [
    {
     "data": {
      "text/plain": [
       "Text(0.5, 1.0, 'Loss function')"
      ]
     },
     "execution_count": 9,
     "metadata": {},
     "output_type": "execute_result"
    },
    {
     "data": {
      "image/png": "[encoded data removed]",
      "text/plain": [
       "<Figure size 432x288 with 1 Axes>"
      ]
     },
     "metadata": {
      "needs_background": "light"
     },
     "output_type": "display_data"
    }
   ],
   "source": [
    "import matplotlib.pyplot as plt\n",
    "import numpy\n",
    "axis_x = cp.asarray(axis_x)\n",
    "# print(type(loss_y[0].astype(numpy.float_)))\n",
    "# print(type(axis_x))\n",
    "loss_y = cp.asarray(loss_y)\n",
    "axis_x_1 = numpy.array(list(map(eval,map(str,axis_x))))\n",
    "loss_y_1 = numpy.array(list(map(eval,map(str,loss_y))))\n",
    "plt.plot(axis_x_1,loss_y_1)\n",
    "plt.title(\"Loss function\")"
   ]
  },
  {
   "cell_type": "markdown",
   "id": "ba23ba69-6359-4cdc-a028-de91948b555e",
   "metadata": {},
   "source": [
    "#### 混淆矩阵"
   ]
  },
  {
   "cell_type": "markdown",
   "id": "f106f341-8c34-47a7-846d-d01af8a44cf5",
   "metadata": {},
   "source": [
    "> - 正样本 0 1 \n",
    "> - 负样本 1 0\n",
    "\n",
    "##### TP = 正类判定为正类/正类全\n",
    "##### FN = 正类判定为负类/正类全\n",
    "##### FP = 负类判定为正类/负类全\n",
    "##### TN = 负类判定为负类/负类全"
   ]
  },
  {
   "cell_type": "code",
   "execution_count": 10,
   "id": "ad90a67f-1794-426c-aaf6-bba94ce97d0a",
   "metadata": {
    "scrolled": true,
    "tags": []
   },
   "outputs": [
    {
     "name": "stdout",
     "output_type": "stream",
     "text": [
      "TP=109 FN=0 FP=0 TN=101 \n",
      "Ture Smaples:109 False Samples:101\n"
     ]
    }
   ],
   "source": [
    "batch_size = 1\n",
    "epoches =1\n",
    "count = 0\n",
    "TP=FN=FP=TN=0\n",
    "Tcount = 0\n",
    "Fcount = 0\n",
    "for i in range(0,valid_shape[0],batch_size): \n",
    "    X = valid_x[i:i+batch_size]\n",
    "    Y = valid_y[i:i+batch_size]\n",
    "    \n",
    "    loss,delta,right_rate= Forward(X,Y)\n",
    "    if Y[0][1] == 1 :\n",
    "        Tcount=Tcount+1\n",
    "        if right_rate==1:\n",
    "            TP = TP+1\n",
    "        else:\n",
    "            FN = FN+1\n",
    "    else :\n",
    "        Fcount=Fcount+1\n",
    "        if right_rate==1:\n",
    "            TN = TN+1\n",
    "        else:\n",
    "            FP = FP +1\n",
    "print(f\"TP={TP} FN={FN} FP={FP} TN={TN} \")\n",
    "print(f\"Ture Smaples:{Tcount} False Samples:{Fcount}\")"
   ]
  },
  {
   "cell_type": "markdown",
   "id": "7f0523f0-6dde-41e2-9be9-311580060389",
   "metadata": {},
   "source": [
    "#### 准确率"
   ]
  },
  {
   "cell_type": "code",
   "execution_count": 11,
   "id": "00c58f89-3ef9-499f-b607-780d55df565b",
   "metadata": {},
   "outputs": [
    {
     "name": "stdout",
     "output_type": "stream",
     "text": [
      "Accuracy=1.0\n"
     ]
    }
   ],
   "source": [
    "Accuracy = (TP+TN)/(TP+TN+FP+FN)\n",
    "print(f\"Accuracy={Accuracy}\")"
   ]
  },
  {
   "cell_type": "markdown",
   "id": "65f756dd-a534-4bae-93f7-106d0f3308b9",
   "metadata": {},
   "source": [
    "#### 精确率（精准率）"
   ]
  },
  {
   "cell_type": "code",
   "execution_count": 12,
   "id": "dae78f3f-73d5-480e-b74b-7843b24ac253",
   "metadata": {},
   "outputs": [
    {
     "name": "stdout",
     "output_type": "stream",
     "text": [
      "Precision=1.0\n"
     ]
    }
   ],
   "source": [
    "Precision = TP/(TP+FP)\n",
    "print(f\"Precision={Precision}\")"
   ]
  },
  {
   "cell_type": "markdown",
   "id": "fb0b4675-c26d-4044-affa-4608d2058cae",
   "metadata": {},
   "source": [
    "#### 召回率"
   ]
  },
  {
   "cell_type": "code",
   "execution_count": 13,
   "id": "21025c67-030e-4eb7-bff3-5ed79ab1f50b",
   "metadata": {},
   "outputs": [
    {
     "name": "stdout",
     "output_type": "stream",
     "text": [
      "Recall=1.0\n"
     ]
    }
   ],
   "source": [
    "Recall = TP/(TP+FN) \n",
    "print(f\"Recall={Recall}\")"
   ]
  },
  {
   "cell_type": "markdown",
   "id": "0b23be86-940f-41eb-8e71-533cd6db2765",
   "metadata": {},
   "source": [
    "#### F1值"
   ]
  },
  {
   "cell_type": "code",
   "execution_count": 14,
   "id": "d701d6ab-b3b0-4e9f-8294-9fae14a5cb64",
   "metadata": {},
   "outputs": [
    {
     "name": "stdout",
     "output_type": "stream",
     "text": [
      "F1=1.0\n"
     ]
    }
   ],
   "source": [
    "F1 = 2*TP/(2*TP+FP+FN)\n",
    "print(f\"F1={F1}\")"
   ]
  },
  {
   "cell_type": "markdown",
   "id": "29c13f82-7a6f-4449-ac8b-972b0f18e64c",
   "metadata": {},
   "source": [
    "ROC曲线"
   ]
  },
  {
   "cell_type": "markdown",
   "id": "78752aee-219a-4402-b7bb-af2df502448e",
   "metadata": {},
   "source": [
    "    "
   ]
  },
  {
   "cell_type": "code",
   "execution_count": 15,
   "id": "e7759066-4a6b-4d8d-a2d1-f5b852804642",
   "metadata": {
    "tags": []
   },
   "outputs": [
    {
     "data": {
      "text/plain": [
       "Text(0.5, 1.0, 'ROC Curve')"
      ]
     },
     "execution_count": 15,
     "metadata": {},
     "output_type": "execute_result"
    },
    {
     "data": {
      "image/png": "[encoded data removed]",
      "text/plain": [
       "<Figure size 432x288 with 1 Axes>"
      ]
     },
     "metadata": {
      "needs_background": "light"
     },
     "output_type": "display_data"
    }
   ],
   "source": [
    "batch_size = 1\n",
    "ROC_x = []\n",
    "ROC_y = []\n",
    "result = []\n",
    "for i in range(0,valid_shape[0],batch_size):\n",
    "    X = valid_x[i:i+batch_size]\n",
    "    Y = valid_y[i:i+batch_size]\n",
    "    tmp_x = []\n",
    "    loss,delta,right_rate= Forward(X,Y)\n",
    "    if Y[0][1] == 1 :\n",
    "        tmp_x = [1,list(map(eval,map(str,[softmax.softmax[0][1]])))[0]]\n",
    "    else :\n",
    "        tmp_x = [0,list(map(eval,map(str,[softmax.softmax[0][1]])))[0]]\n",
    "    result.append(tmp_x)\n",
    "    # print(softmax.softmax[0])\n",
    "# sort \n",
    "# result[ [label true_value] ]\n",
    "num = 0\n",
    "result.sort(key= lambda x:x[1],reverse=True)\n",
    "for i in range(0,100):\n",
    "    x = i/100\n",
    "    true_sampes = 0 \n",
    "    TP=FP=FN=TN=0\n",
    "    for j in range(0,valid_shape[0]):\n",
    "        threshold =1-x\n",
    "        # 认定为正样本\n",
    "        if result[j][1]>=threshold:\n",
    "            if result[j][0]==1 : TP = TP + 1\n",
    "            else: FP = FP + 1\n",
    "        else:\n",
    "            if result[j][0]==0: TN = TN + 1\n",
    "            else: FN = FN + 1\n",
    "        \n",
    "        \n",
    "    TPR = TP/(TP+FN)\n",
    "    FPR = FP/(FP+TN)\n",
    "    # print(FPR,TPR)\n",
    "    ROC_x.append(FPR)\n",
    "    ROC_y.append(TPR)\n",
    "plt.plot(ROC_x,ROC_y)\n",
    "plt.title(\"ROC Curve\")"
   ]
  },
  {
   "cell_type": "markdown",
   "id": "24d2a803-4af8-497b-a5c7-773326de6fcb",
   "metadata": {},
   "source": [
    "AUC值"
   ]
  },
  {
   "cell_type": "code",
   "execution_count": 16,
   "id": "07675261-fc1f-47cd-bce6-74dde88390e2",
   "metadata": {},
   "outputs": [
    {
     "name": "stdout",
     "output_type": "stream",
     "text": [
      "AUC=0.9100000000000006\n"
     ]
    }
   ],
   "source": [
    "AUC = 0\n",
    "for i in range(len(ROC_x)):\n",
    "    AUC += 0.01*ROC_y[i]\n",
    "print(f\"AUC={AUC}\")"
   ]
  },
  {
   "cell_type": "markdown",
   "id": "9b558a95-1316-459c-9c48-c5dd2e66ca57",
   "metadata": {},
   "source": [
    "### 训练参考内容"
   ]
  },
  {
   "cell_type": "markdown",
   "id": "42e2ce15-3fe2-4467-9fcc-72786702f27d",
   "metadata": {},
   "source": [
    "上面在将正负样本的时候其实已经提到了相关的内容。\n",
    "\n",
    "当模型训练后的效果较差时，例如准确率低于60%（这个百分比只是个参考，表达大致模型已经初步成型的意思），召回不理想（因为我的应用场景无法评估线上被识别对象的总量，所以召回率没有做评估），那就证明“学习资料”出了问题。\n",
    "\n",
    "如果召回率低，那就要补充正样本，让正样本的共性特征更明显；如果精确率低，那么就补充负样本，一方面要让正负样本由较明显的特征差异，另一方面可以把模型误召回的文本补充到负样本，矫正模型学偏的部分。"
   ]
  },
  {
   "cell_type": "code",
   "execution_count": 17,
   "id": "91c07bb0-43bf-426f-a726-73b22690a7d1",
   "metadata": {},
   "outputs": [],
   "source": [
    "import pickle\n",
    "ClassDict = open(\"Model.pkl\", 'wb')\n",
    "Model={\"conv1\":conv1,\"conv2\":conv2,\"conv3\":conv3,\n",
    "      \"relu1\":relu1,\"relu2\":relu2,\"relu3\":relu3,\n",
    "      \"max_pooling1\":max_pooling1,\"max_pooling2\":max_pooling2,\"max_pooling3\":max_pooling3,\n",
    "      \"flatten1\":flatten1,\"flatten2\":flatten2,\"flatten3\":flatten3,\n",
    "      \"concat1\":concat1,\n",
    "      \"fc1\":fc1,\n",
    "      \"softmax\":softmax}\n",
    "serilizeStr = pickle.dumps(Model)\n",
    "ClassDict.write(serilizeStr)\n",
    "ClassDict.close()\n"
   ]
  },
  {
   "cell_type": "code",
   "execution_count": null,
   "id": "338d8a90-ac3d-4fa7-8dd2-b4ca673992d5",
   "metadata": {},
   "outputs": [],
   "source": []
  },
  {
   "cell_type": "code",
   "execution_count": null,
   "id": "3f76efc4-bfc7-4519-a0b6-af5da67e6709",
   "metadata": {},
   "outputs": [],
   "source": []
  }
 ],
 "metadata": {
  "kernelspec": {
   "display_name": "Python 3 (ipykernel)",
   "language": "python",
   "name": "python3"
  },
  "language_info": {
   "codemirror_mode": {
    "name": "ipython",
    "version": 3
   },
   "file_extension": ".py",
   "mimetype": "text/x-python",
   "name": "python",
   "nbconvert_exporter": "python",
   "pygments_lexer": "ipython3",
   "version": "3.8.10"
  }
 },
 "nbformat": 4,
 "nbformat_minor": 5
}
