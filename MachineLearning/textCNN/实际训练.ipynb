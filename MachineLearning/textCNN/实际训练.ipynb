{
 "cells": [
  {
   "cell_type": "markdown",
   "id": "29a4a1e4-862e-479b-a22e-e84ed2da1d9d",
   "metadata": {
    "pycharm": {
     "name": "#%% md\n"
    }
   },
   "source": [
    "# textCNN"
   ]
  },
  {
   "cell_type": "markdown",
   "id": "f5376fb7-8960-4d9a-afb3-e4a6aed24723",
   "metadata": {
    "jupyter": {
     "outputs_hidden": false
    },
    "pycharm": {
     "name": "#%%\n"
    }
   },
   "source": [
    "## 1.实际训练阶段"
   ]
  },
  {
   "cell_type": "markdown",
   "id": "9ce3f698",
   "metadata": {},
   "source": [
    "### 1.1引入模块库"
   ]
  },
  {
   "cell_type": "code",
   "execution_count": 1,
   "id": "4b68a3a1",
   "metadata": {
    "collapsed": false,
    "jupyter": {
     "outputs_hidden": false
    },
    "pycharm": {
     "name": "#%%\n"
    }
   },
   "outputs": [
    {
     "name": "stdout",
     "output_type": "stream",
     "text": [
      "Enjoy NPL MachineLearning\n"
     ]
    }
   ],
   "source": [
    "from MyModule import Net\n",
    "import cupy as cp\n",
    "import numpy\n",
    "import matplotlib as plt"
   ]
  },
  {
   "cell_type": "markdown",
   "id": "66b01c4b",
   "metadata": {},
   "source": [
    "### 1.2导入训练集\n",
    "格式为 batch h= w= channels="
   ]
  },
  {
   "cell_type": "code",
   "execution_count": 2,
   "id": "dcf9215a",
   "metadata": {
    "collapsed": false,
    "jupyter": {
     "outputs_hidden": false
    },
    "pycharm": {
     "name": "#%%\n"
    }
   },
   "outputs": [
    {
     "name": "stdout",
     "output_type": "stream",
     "text": [
      "y_1 shape:(109, 2) y_2 shape: (202, 2)\n",
      "(311, 20, 100)\n",
      "(311, 2)\n",
      "(311, 20, 100, 1) (311, 2)\n"
     ]
    }
   ],
   "source": [
    "x_1 = numpy.load('Data/negative.npy',allow_pickle=True)\n",
    "x_2 = numpy.load('Data/positive.npy',allow_pickle=True)\n",
    "y_1 = numpy.repeat([[0,1]],109,axis=0)\n",
    "y_2 = numpy.repeat([[1,0]],202,axis=0)\n",
    "print(f\"y_1 shape:{y_1.shape} y_2 shape: {y_2.shape}\")\n",
    "origin_X = numpy.concatenate((x_1,x_2))\n",
    "origin_Y = numpy.concatenate((y_1,y_2))\n",
    "# 打乱数据集\n",
    "per = numpy.random.permutation(origin_X.shape[0])#打乱后的行号\n",
    "train_x = origin_X[per, :, :]#获取打乱后的训练数据\n",
    "train_y = origin_Y[per]\n",
    "print(train_x.shape)\n",
    "print(train_y.shape)\n",
    "train_x = train_x.reshape((311,20,100,1))\n",
    "train_x = cp.asarray(train_x)\n",
    "train_y = cp.asarray(train_y)\n",
    "print(train_x.shape,train_y.shape)\n",
    "# print(train_x[0])"
   ]
  },
  {
   "cell_type": "markdown",
   "id": "2be7a831",
   "metadata": {},
   "source": [
    "### 1.3定义网络结构"
   ]
  },
  {
   "cell_type": "code",
   "execution_count": 3,
   "id": "417350a5",
   "metadata": {
    "collapsed": false,
    "jupyter": {
     "outputs_hidden": false
    },
    "pycharm": {
     "name": "#%%\n"
    }
   },
   "outputs": [],
   "source": [
    "# 卷积层\n",
    "conv1 = Net.Conv(kernal=(3,100,1,10),stride=1)\n",
    "conv2 = Net.Conv(kernal=(4,100,1,10),stride=1)\n",
    "conv3 = Net.Conv(kernal=(5,100,1,10),stride=1)\n",
    "\n",
    "# 激活函数Relu\n",
    "relu1 = Net.Relu()\n",
    "relu2 = Net.Relu()\n",
    "relu3 = Net.Relu()\n",
    "\n",
    "# 池化层\n",
    "max_pooling1 = Net.Pool(ksize=2)\n",
    "max_pooling2 = Net.Pool(ksize=2)\n",
    "max_pooling3 = Net.Pool(ksize=2)\n",
    "\n",
    "# Flatten 层\n",
    "flatten1 = Net.Flatten()\n",
    "flatten2 = Net.Flatten()\n",
    "flatten3 = Net.Flatten()\n",
    "\n",
    "# Concat融合\n",
    "concat1 = Net.Concat()\n",
    "\n",
    "# 全连接层\n",
    "fc1 = Net.Fc( 250,2)\n",
    "\n",
    "# softmax\n",
    "softmax = Net.Softmax()"
   ]
  },
  {
   "cell_type": "markdown",
   "id": "a78c8404-3bcc-4852-adcf-01a7e6b6849a",
   "metadata": {},
   "source": [
    "### 定义前向传播函数"
   ]
  },
  {
   "cell_type": "code",
   "execution_count": 4,
   "id": "c7fe92a5",
   "metadata": {
    "collapsed": false,
    "jupyter": {
     "outputs_hidden": false
    },
    "pycharm": {
     "name": "#%%\n"
    }
   },
   "outputs": [],
   "source": [
    "def Forward(X,Y):\n",
    "    # 卷积\n",
    "    forward1 = conv1.forward(X)\n",
    "    forward2 = conv2.forward(X)\n",
    "    forward3 = conv3.forward(X)\n",
    "    # print(forward1.shape)\n",
    "    # relu\n",
    "    forward1 = relu1.forward(forward1)\n",
    "    forward2 = relu2.forward(forward2)\n",
    "    forward3 = relu3.forward(forward3)\n",
    "    # print(forward1.shape)\n",
    "    # 池化\n",
    "    forward1 = max_pooling1.forward(forward1)\n",
    "    forward2 = max_pooling2.forward(forward2)\n",
    "    forward3 = max_pooling3.forward(forward3)\n",
    "    # print(forward1.shape)\n",
    "    # flatten\n",
    "    forward1 = flatten1.forward(forward1)\n",
    "    forward2 = flatten2.forward(forward2)\n",
    "    forward3 = flatten3.forward(forward3)\n",
    "    # print(forward1.shape)\n",
    "    # print(forward2.shape)\n",
    "    # print(forward3.shape)\n",
    "    # concate\n",
    "    forward = concat1.forward(forward1,forward2,forward3)\n",
    "    # print(forward.shape)\n",
    "    # 全连接\n",
    "    forward = fc1.forward(forward)\n",
    "    # print(forward.shape)\n",
    "    # softmax\n",
    "    loss,delta = softmax.calcuteLoss(forward,Y)\n",
    "    predict = softmax.predict(forward)\n",
    "    right = 0\n",
    "    # print(predict.shape)\n",
    "    for i in range(X.shape[0]):\n",
    "        if cp.argmax(predict[i])==cp.argmax(Y[i]) :\n",
    "            right = right + 1\n",
    "    return loss,delta,right/X.shape[0]\n",
    "# print(f\"softmax_layer:{delta.shape}\" )\n",
    "# print(f\"loss:{loss} delta:{delta}\")"
   ]
  },
  {
   "cell_type": "markdown",
   "id": "49700b1c-b480-4720-8f9a-156d68f6e36d",
   "metadata": {},
   "source": [
    "### 定义反向传播函数"
   ]
  },
  {
   "cell_type": "code",
   "execution_count": 5,
   "id": "4be063a5",
   "metadata": {
    "collapsed": false,
    "jupyter": {
     "outputs_hidden": false
    },
    "pycharm": {
     "name": "#%%\n"
    }
   },
   "outputs": [],
   "source": [
    "def Backward(delta,lr):\n",
    "    # 全连接\n",
    "    backward = fc1.backward(delta,lr)\n",
    "    # print(f\"fc:{backward.shape}\")\n",
    "    # concate\n",
    "    backward1,backward2,backward3 =  concat1.backward(backward)\n",
    "    # print(f\"concate:{backward1.shape} {backward2.shape} {backward3.shape}\")\n",
    "    # flatten\n",
    "    backward1 = flatten1.backward(backward1)\n",
    "    backward2 = flatten2.backward(backward2)\n",
    "    backward3 = flatten3.backward(backward3)\n",
    "    # print(f\"flatten1:{backward1.shape} flatten2:{backward2.shape} flatten3:{backward3.shape}\")\n",
    "    # 池化\n",
    "    backward1 = max_pooling1.backward(backward1)\n",
    "    backward2 = max_pooling2.backward(backward2)\n",
    "    backward3 = max_pooling3.backward(backward3)\n",
    "    # print(f\"pool1:{backward1.shape} pool2:{backward2.shape} pool3:{backward3.shape}\")\n",
    "    # relu\n",
    "    backward1 = relu1.backward(backward1)\n",
    "    backward2 = relu2.backward(backward2)\n",
    "    backward3 = relu3.backward(backward3)\n",
    "    # 卷积\n",
    "    backward1 = conv1.backward(backward1,lr)\n",
    "    backward2 = conv2.backward(backward2,lr)\n",
    "    backward3 = conv3.backward(backward3,lr)\n",
    "    # print(f\"反向传播完成\")"
   ]
  },
  {
   "cell_type": "markdown",
   "id": "d27e1ccf",
   "metadata": {},
   "source": [
    "#### 1.4.3训练结果和损失展示"
   ]
  },
  {
   "cell_type": "code",
   "execution_count": 6,
   "id": "d3be8f23",
   "metadata": {
    "collapsed": false,
    "jupyter": {
     "outputs_hidden": false
    },
    "pycharm": {
     "name": "#%%\n"
    },
    "scrolled": true,
    "tags": []
   },
   "outputs": [
    {
     "name": "stdout",
     "output_type": "stream",
     "text": [
      "epoch-0/10-0/311 loss:6.268633042357708 right_rate :0.2 \n",
      "epoch-0/10-10/311 loss:1.6832112605418672 right_rate :0.6 \n",
      "epoch-0/10-20/311 loss:1.883265050246677 right_rate :0.3 \n",
      "epoch-0/10-30/311 loss:0.6742724076953441 right_rate :0.7 \n",
      "epoch-0/10-40/311 loss:0.5518002881494237 right_rate :0.8 \n",
      "epoch-0/10-50/311 loss:0.920458684572964 right_rate :0.5 \n",
      "epoch-0/10-60/311 loss:0.6964953041876207 right_rate :0.6 \n",
      "epoch-0/10-70/311 loss:0.585530874225778 right_rate :0.8 \n",
      "epoch-0/10-80/311 loss:0.8913459850626129 right_rate :0.5 \n",
      "epoch-0/10-90/311 loss:0.6694711835326967 right_rate :0.9 \n",
      "epoch-0/10-100/311 loss:0.6698114148739105 right_rate :0.7 \n",
      "epoch-0/10-110/311 loss:0.6873196847898749 right_rate :0.6 \n",
      "epoch-0/10-120/311 loss:0.6840415756744237 right_rate :0.5 \n",
      "epoch-0/10-130/311 loss:0.6646786159910705 right_rate :0.6 \n",
      "epoch-0/10-140/311 loss:0.8333917912166111 right_rate :0.5 \n",
      "epoch-0/10-150/311 loss:0.6666120417151088 right_rate :0.6 \n",
      "epoch-0/10-160/311 loss:0.6825524546987741 right_rate :0.4 \n",
      "epoch-0/10-170/311 loss:0.6625278711778062 right_rate :0.4 \n",
      "epoch-0/10-180/311 loss:0.5684699039455948 right_rate :0.7 \n",
      "epoch-0/10-190/311 loss:0.7256636291089007 right_rate :0.4 \n",
      "epoch-0/10-200/311 loss:0.6327478267449121 right_rate :0.5 \n",
      "epoch-0/10-210/311 loss:0.6535992612533557 right_rate :0.5 \n",
      "epoch-1/10-0/311 loss:0.44984848113660914 right_rate :0.8 \n",
      "epoch-1/10-10/311 loss:0.9350367777291713 right_rate :0.4 \n",
      "epoch-1/10-20/311 loss:0.6344623812715895 right_rate :0.7 \n",
      "epoch-1/10-30/311 loss:0.5495710496272841 right_rate :0.7 \n",
      "epoch-1/10-40/311 loss:0.4400298008122416 right_rate :0.8 \n",
      "epoch-1/10-50/311 loss:0.7283696886709461 right_rate :0.5 \n",
      "epoch-1/10-60/311 loss:0.5922565538681492 right_rate :0.7 \n",
      "epoch-1/10-70/311 loss:0.6222375332161063 right_rate :0.8 \n",
      "epoch-1/10-80/311 loss:0.7901884450677845 right_rate :0.5 \n",
      "epoch-1/10-90/311 loss:0.4651908129055582 right_rate :0.8 \n",
      "epoch-1/10-100/311 loss:0.5301631260336552 right_rate :0.7 \n",
      "epoch-1/10-110/311 loss:0.5109085296367051 right_rate :0.6 \n",
      "epoch-1/10-120/311 loss:0.6040592320456473 right_rate :0.7 \n",
      "epoch-1/10-130/311 loss:0.5718963203908236 right_rate :0.6 \n",
      "epoch-1/10-140/311 loss:0.6711891927548563 right_rate :0.5 \n",
      "epoch-1/10-150/311 loss:0.6325605370460169 right_rate :0.6 \n",
      "epoch-1/10-160/311 loss:0.5570480342031032 right_rate :0.4 \n",
      "epoch-1/10-170/311 loss:0.5107702490125503 right_rate :0.9 \n",
      "epoch-1/10-180/311 loss:0.535607456545347 right_rate :0.7 \n",
      "epoch-1/10-190/311 loss:0.5826124395413517 right_rate :0.4 \n",
      "epoch-1/10-200/311 loss:0.5580029348351869 right_rate :0.8 \n",
      "epoch-1/10-210/311 loss:0.6650420140052209 right_rate :0.5 \n",
      "epoch-2/10-0/311 loss:0.4212012820490142 right_rate :0.8 \n",
      "epoch-2/10-10/311 loss:0.8550852498984167 right_rate :0.4 \n",
      "epoch-2/10-20/311 loss:0.534173787215298 right_rate :0.7 \n",
      "epoch-2/10-30/311 loss:0.5273621191690848 right_rate :0.7 \n",
      "epoch-2/10-40/311 loss:0.40138647107561953 right_rate :0.8 \n",
      "epoch-2/10-50/311 loss:0.6477875348411041 right_rate :0.5 \n",
      "epoch-2/10-60/311 loss:0.5469547342915191 right_rate :0.7 \n",
      "epoch-2/10-70/311 loss:0.6545819647236124 right_rate :0.3 \n",
      "epoch-2/10-80/311 loss:0.7188623425990428 right_rate :0.5 \n",
      "epoch-2/10-90/311 loss:0.3644668590639085 right_rate :0.8 \n",
      "epoch-2/10-100/311 loss:0.4794565436082647 right_rate :0.7 \n",
      "epoch-2/10-110/311 loss:0.4332475482787971 right_rate :0.6 \n",
      "epoch-2/10-120/311 loss:0.5764466637662269 right_rate :0.7 \n",
      "epoch-2/10-130/311 loss:0.5386466963109794 right_rate :0.6 \n",
      "epoch-2/10-140/311 loss:0.5825932146258836 right_rate :0.5 \n",
      "epoch-2/10-150/311 loss:0.6153236926777484 right_rate :0.6 \n",
      "epoch-2/10-160/311 loss:0.4895456550641148 right_rate :0.4 \n",
      "epoch-2/10-170/311 loss:0.4275580144571133 right_rate :0.9 \n",
      "epoch-2/10-180/311 loss:0.5326848684053811 right_rate :0.7 \n",
      "epoch-2/10-190/311 loss:0.48784009061954564 right_rate :0.4 \n",
      "epoch-2/10-200/311 loss:0.5116251156497913 right_rate :0.8 \n",
      "epoch-2/10-210/311 loss:0.6832578154060118 right_rate :0.5 \n",
      "epoch-3/10-0/311 loss:0.41335956434310683 right_rate :0.8 \n",
      "epoch-3/10-10/311 loss:0.7986360754709253 right_rate :0.4 \n",
      "epoch-3/10-20/311 loss:0.48808870565379936 right_rate :0.7 \n",
      "epoch-3/10-30/311 loss:0.5192895823864768 right_rate :0.7 \n",
      "epoch-3/10-40/311 loss:0.38548240714639015 right_rate :0.8 \n",
      "epoch-3/10-50/311 loss:0.6017972558559233 right_rate :0.5 \n",
      "epoch-3/10-60/311 loss:0.5232202037734464 right_rate :0.7 \n",
      "epoch-3/10-70/311 loss:0.6688149075020846 right_rate :0.3 \n",
      "epoch-3/10-80/311 loss:0.6537041502549186 right_rate :0.5 \n",
      "epoch-3/10-90/311 loss:0.31444954210311815 right_rate :0.8 \n",
      "epoch-3/10-100/311 loss:0.4591246903395114 right_rate :0.7 \n",
      "epoch-3/10-110/311 loss:0.39144209364807114 right_rate :0.6 \n",
      "epoch-3/10-120/311 loss:0.5638533102758316 right_rate :0.7 \n",
      "epoch-3/10-130/311 loss:0.5212231180528512 right_rate :0.6 \n",
      "epoch-3/10-140/311 loss:0.523342249822516 right_rate :0.5 \n",
      "epoch-3/10-150/311 loss:0.6001716954045915 right_rate :0.6 \n",
      "epoch-3/10-160/311 loss:0.4488311067152716 right_rate :1.0 \n",
      "epoch-3/10-170/311 loss:0.37993059267959917 right_rate :0.9 \n",
      "epoch-3/10-180/311 loss:0.5290679187297714 right_rate :0.7 \n",
      "epoch-3/10-190/311 loss:0.42202255717700304 right_rate :1.0 \n",
      "epoch-3/10-200/311 loss:0.48758268670561256 right_rate :0.8 \n",
      "epoch-3/10-210/311 loss:0.6941519153280077 right_rate :0.5 \n",
      "epoch-4/10-0/311 loss:0.4196554392422513 right_rate :0.8 \n",
      "epoch-4/10-10/311 loss:0.7447477325840577 right_rate :0.4 \n",
      "epoch-4/10-20/311 loss:0.4640365076081158 right_rate :0.7 \n",
      "epoch-4/10-30/311 loss:0.5137070279439817 right_rate :0.7 \n",
      "epoch-4/10-40/311 loss:0.378462286910751 right_rate :0.8 \n",
      "epoch-4/10-50/311 loss:0.5734547958908969 right_rate :0.5 \n",
      "epoch-4/10-60/311 loss:0.5124018906621686 right_rate :0.7 \n",
      "epoch-4/10-70/311 loss:0.6704330978051913 right_rate :0.3 \n",
      "epoch-4/10-80/311 loss:0.592709388986656 right_rate :0.5 \n",
      "epoch-4/10-90/311 loss:0.28353686414581764 right_rate :0.8 \n",
      "epoch-4/10-100/311 loss:0.44951745552412126 right_rate :0.7 \n",
      "epoch-4/10-110/311 loss:0.3674011833411139 right_rate :0.6 \n",
      "epoch-4/10-120/311 loss:0.558165945527312 right_rate :0.7 \n",
      "epoch-4/10-130/311 loss:0.5060061832341352 right_rate :0.6 \n",
      "epoch-4/10-140/311 loss:0.48475997710924335 right_rate :0.5 \n",
      "epoch-4/10-150/311 loss:0.5913225211447652 right_rate :0.6 \n",
      "epoch-4/10-160/311 loss:0.42313109113280645 right_rate :1.0 \n",
      "epoch-4/10-170/311 loss:0.3550402019061295 right_rate :0.9 \n",
      "epoch-4/10-180/311 loss:0.5188540553219891 right_rate :0.7 \n",
      "epoch-4/10-190/311 loss:0.379879011827594 right_rate :1.0 \n",
      "epoch-4/10-200/311 loss:0.47365006769383855 right_rate :0.8 \n",
      "epoch-4/10-210/311 loss:0.6958454011706241 right_rate :0.5 \n",
      "epoch-5/10-0/311 loss:0.4368654504065922 right_rate :0.8 \n",
      "epoch-5/10-10/311 loss:0.6924288228517888 right_rate :0.4 \n",
      "epoch-5/10-20/311 loss:0.4533296022863119 right_rate :0.7 \n",
      "epoch-5/10-30/311 loss:0.510559613171287 right_rate :0.6 \n",
      "epoch-5/10-40/311 loss:0.3759402193782869 right_rate :0.8 \n",
      "epoch-5/10-50/311 loss:0.5509727453947503 right_rate :0.5 \n",
      "epoch-5/10-60/311 loss:0.5071771680442397 right_rate :0.7 \n",
      "epoch-5/10-70/311 loss:0.6634168908547118 right_rate :0.3 \n",
      "epoch-5/10-80/311 loss:0.5453646172434332 right_rate :0.5 \n",
      "epoch-5/10-90/311 loss:0.2675367077823085 right_rate :0.8 \n",
      "epoch-5/10-100/311 loss:0.444510704840566 right_rate :0.7 \n",
      "epoch-5/10-110/311 loss:0.35239908299219425 right_rate :0.6 \n",
      "epoch-5/10-120/311 loss:0.5570708283417837 right_rate :0.7 \n",
      "epoch-5/10-130/311 loss:0.4905113504383193 right_rate :0.6 \n",
      "epoch-5/10-140/311 loss:0.4606491985983091 right_rate :0.5 \n",
      "epoch-5/10-150/311 loss:0.583330555874241 right_rate :0.6 \n",
      "epoch-5/10-160/311 loss:0.40954998050438796 right_rate :1.0 \n",
      "epoch-5/10-170/311 loss:0.3430067257111542 right_rate :0.9 \n",
      "epoch-5/10-180/311 loss:0.5032615437750835 right_rate :0.7 \n",
      "epoch-5/10-190/311 loss:0.35660826794432443 right_rate :1.0 \n",
      "epoch-5/10-200/311 loss:0.4649755005628978 right_rate :0.8 \n",
      "epoch-5/10-210/311 loss:0.6878066591383154 right_rate :0.5 \n",
      "epoch-6/10-0/311 loss:0.45825392282476507 right_rate :0.6 \n",
      "epoch-6/10-10/311 loss:0.6503754755064268 right_rate :0.4 \n",
      "epoch-6/10-20/311 loss:0.44999757157298975 right_rate :0.7 \n",
      "epoch-6/10-30/311 loss:0.5113431187163769 right_rate :0.6 \n",
      "epoch-6/10-40/311 loss:0.37696489227210606 right_rate :0.8 \n",
      "epoch-6/10-50/311 loss:0.5324784225543967 right_rate :0.5 \n",
      "epoch-6/10-60/311 loss:0.5044508692230191 right_rate :0.7 \n",
      "epoch-6/10-70/311 loss:0.6584260427171686 right_rate :0.3 \n",
      "epoch-6/10-80/311 loss:0.5116247535082703 right_rate :0.5 \n",
      "epoch-6/10-90/311 loss:0.2592370667739008 right_rate :0.8 \n",
      "epoch-6/10-100/311 loss:0.44173989311189266 right_rate :0.7 \n",
      "epoch-6/10-110/311 loss:0.34148207147005477 right_rate :0.6 \n",
      "epoch-6/10-120/311 loss:0.5578221194138494 right_rate :0.7 \n",
      "epoch-6/10-130/311 loss:0.47684102575320947 right_rate :0.6 \n",
      "epoch-6/10-140/311 loss:0.4469365395626353 right_rate :0.5 \n",
      "epoch-6/10-150/311 loss:0.5780379217934437 right_rate :0.6 \n",
      "epoch-6/10-160/311 loss:0.4034695092150666 right_rate :1.0 \n",
      "epoch-6/10-170/311 loss:0.3400683654453595 right_rate :0.9 \n",
      "epoch-6/10-180/311 loss:0.486583812044768 right_rate :0.7 \n",
      "epoch-6/10-190/311 loss:0.34927028099860075 right_rate :1.0 \n",
      "epoch-6/10-200/311 loss:0.46039580606970787 right_rate :0.8 \n",
      "epoch-6/10-210/311 loss:0.6687930554554815 right_rate :0.5 \n",
      "epoch-7/10-0/311 loss:0.4774199499190989 right_rate :0.6 \n",
      "epoch-7/10-10/311 loss:0.6213862129042507 right_rate :0.7 \n",
      "epoch-7/10-20/311 loss:0.4507294868765677 right_rate :0.7 \n",
      "epoch-7/10-30/311 loss:0.5162842417770035 right_rate :0.6 \n",
      "epoch-7/10-40/311 loss:0.3825529539421785 right_rate :0.7 \n",
      "epoch-7/10-50/311 loss:0.5117831693502295 right_rate :0.5 \n",
      "epoch-7/10-60/311 loss:0.5025298697156821 right_rate :0.7 \n",
      "epoch-7/10-70/311 loss:0.660061067177895 right_rate :0.3 \n",
      "epoch-7/10-80/311 loss:0.47767581363447775 right_rate :0.5 \n",
      "epoch-7/10-90/311 loss:0.2566700350924562 right_rate :0.8 \n",
      "epoch-7/10-100/311 loss:0.4404756000151188 right_rate :0.7 \n",
      "epoch-7/10-110/311 loss:0.32945707969842314 right_rate :0.6 \n",
      "epoch-7/10-120/311 loss:0.5594210953140492 right_rate :0.7 \n",
      "epoch-7/10-130/311 loss:0.465496067505483 right_rate :0.6 \n",
      "epoch-7/10-140/311 loss:0.4396033898640696 right_rate :0.9 \n",
      "epoch-7/10-150/311 loss:0.5735370626438661 right_rate :0.6 \n",
      "epoch-7/10-160/311 loss:0.4049237524284711 right_rate :1.0 \n",
      "epoch-7/10-170/311 loss:0.34249373072398476 right_rate :0.9 \n",
      "epoch-7/10-180/311 loss:0.4708075616208112 right_rate :0.7 \n",
      "epoch-7/10-190/311 loss:0.3542323988374778 right_rate :1.0 \n",
      "epoch-7/10-200/311 loss:0.45958109410505166 right_rate :0.8 \n",
      "epoch-7/10-210/311 loss:0.6396415093770494 right_rate :0.5 \n",
      "epoch-8/10-0/311 loss:0.4865701794411694 right_rate :0.6 \n",
      "epoch-8/10-10/311 loss:0.6076080589570426 right_rate :0.7 \n",
      "epoch-8/10-20/311 loss:0.4522625439846403 right_rate :0.7 \n",
      "epoch-8/10-30/311 loss:0.5218639705558873 right_rate :0.6 \n",
      "epoch-8/10-40/311 loss:0.38933886143764007 right_rate :0.7 \n",
      "epoch-8/10-50/311 loss:0.4961592803116339 right_rate :0.8 \n",
      "epoch-8/10-60/311 loss:0.5010340341129444 right_rate :0.7 \n",
      "epoch-8/10-70/311 loss:0.6710506037193312 right_rate :0.3 \n",
      "epoch-8/10-80/311 loss:0.4503604027031079 right_rate :0.5 \n",
      "epoch-8/10-90/311 loss:0.2586714548620473 right_rate :0.8 \n",
      "epoch-8/10-100/311 loss:0.4407307505534376 right_rate :0.7 \n",
      "epoch-8/10-110/311 loss:0.31544387366301996 right_rate :0.6 \n",
      "epoch-8/10-120/311 loss:0.5584454833949988 right_rate :0.7 \n",
      "epoch-8/10-130/311 loss:0.46134692105498587 right_rate :0.6 \n",
      "epoch-8/10-140/311 loss:0.4317910394705445 right_rate :0.9 \n",
      "epoch-8/10-150/311 loss:0.5715727543835717 right_rate :0.6 \n",
      "epoch-8/10-160/311 loss:0.4046099035785763 right_rate :1.0 \n",
      "epoch-8/10-170/311 loss:0.34667483186037823 right_rate :0.9 \n",
      "epoch-8/10-180/311 loss:0.45980124365957253 right_rate :0.7 \n",
      "epoch-8/10-190/311 loss:0.36409282009534294 right_rate :1.0 \n",
      "epoch-8/10-200/311 loss:0.46247003832667727 right_rate :0.8 \n",
      "epoch-8/10-210/311 loss:0.6083912207791151 right_rate :0.5 \n",
      "epoch-9/10-0/311 loss:0.48616218696310476 right_rate :0.6 \n",
      "epoch-9/10-10/311 loss:0.6025561440745951 right_rate :0.7 \n",
      "epoch-9/10-20/311 loss:0.4524729193428403 right_rate :0.7 \n",
      "epoch-9/10-30/311 loss:0.5249542999635586 right_rate :0.6 \n",
      "epoch-9/10-40/311 loss:0.3943612664420456 right_rate :0.7 \n",
      "epoch-9/10-50/311 loss:0.48618064969269303 right_rate :0.8 \n",
      "epoch-9/10-60/311 loss:0.5003452360397604 right_rate :0.7 \n",
      "epoch-9/10-70/311 loss:0.6823501566685051 right_rate :0.3 \n",
      "epoch-9/10-80/311 loss:0.43069170910512256 right_rate :0.9 \n",
      "epoch-9/10-90/311 loss:0.26243145208153706 right_rate :0.8 \n",
      "epoch-9/10-100/311 loss:0.4422518134275967 right_rate :0.7 \n",
      "epoch-9/10-110/311 loss:0.3023896596355833 right_rate :1.0 \n",
      "epoch-9/10-120/311 loss:0.5561678255481188 right_rate :0.7 \n",
      "epoch-9/10-130/311 loss:0.46231088548837074 right_rate :0.6 \n",
      "epoch-9/10-140/311 loss:0.42329539773772007 right_rate :0.9 \n",
      "epoch-9/10-150/311 loss:0.5713549980588439 right_rate :0.6 \n",
      "epoch-9/10-160/311 loss:0.4001744747608959 right_rate :1.0 \n",
      "epoch-9/10-170/311 loss:0.34955648233911985 right_rate :0.9 \n",
      "epoch-9/10-180/311 loss:0.4538644754085489 right_rate :0.7 \n",
      "epoch-9/10-190/311 loss:0.371949924705545 right_rate :1.0 \n",
      "epoch-9/10-200/311 loss:0.46688452858884866 right_rate :0.8 \n",
      "epoch-9/10-210/311 loss:0.5836605733453986 right_rate :0.5 \n",
      "epoch-10/10-0/311 loss:0.48192223040019516 right_rate :0.6 \n",
      "epoch-10/10-10/311 loss:0.6013737601350193 right_rate :0.7 \n",
      "epoch-10/10-20/311 loss:0.45150287399936717 right_rate :0.7 \n",
      "epoch-10/10-30/311 loss:0.5253629981147978 right_rate :0.6 \n",
      "epoch-10/10-40/311 loss:0.3966597844930345 right_rate :0.7 \n",
      "epoch-10/10-50/311 loss:0.48100859367820076 right_rate :0.8 \n",
      "epoch-10/10-60/311 loss:0.5000789184121499 right_rate :0.7 \n",
      "epoch-10/10-70/311 loss:0.6893356585367811 right_rate :0.3 \n",
      "epoch-10/10-80/311 loss:0.4172824543804451 right_rate :0.9 \n",
      "epoch-10/10-90/311 loss:0.266253630798088 right_rate :0.8 \n",
      "epoch-10/10-100/311 loss:0.44439995816460093 right_rate :0.7 \n",
      "epoch-10/10-110/311 loss:0.29140448574812833 right_rate :1.0 \n",
      "epoch-10/10-120/311 loss:0.5540163405422518 right_rate :0.7 \n",
      "epoch-10/10-130/311 loss:0.46503510229444284 right_rate :0.6 \n",
      "epoch-10/10-140/311 loss:0.4151829132297121 right_rate :0.9 \n",
      "epoch-10/10-150/311 loss:0.5718990069643197 right_rate :0.6 \n",
      "epoch-10/10-160/311 loss:0.3938060898279455 right_rate :1.0 \n",
      "epoch-10/10-170/311 loss:0.3509488082748365 right_rate :0.9 \n",
      "epoch-10/10-180/311 loss:0.4508148625464953 right_rate :0.7 \n",
      "epoch-10/10-190/311 loss:0.376693021800245 right_rate :1.0 \n",
      "epoch-10/10-200/311 loss:0.47082781411500524 right_rate :0.8 \n",
      "epoch-10/10-210/311 loss:0.5668888868476946 right_rate :0.5 \n"
     ]
    }
   ],
   "source": [
    "learning_rate = 0.01\n",
    "batch_size = 10\n",
    "epoches =10\n",
    "img_x = []\n",
    "loss_y = []\n",
    "right_y = []\n",
    "for epoch in range(epoches+1):\n",
    "    for i in range(0,211,batch_size): \n",
    "        X = train_x[i:i+batch_size]\n",
    "        Y = train_y[i:i+batch_size]\n",
    "        loss,delta,right_rate= Forward(X,Y)\n",
    "        Backward(delta,learning_rate)\n",
    "        # print(\"==============================================\")\n",
    "        print(f\"epoch-{epoch}/{epoches}-{i}/{311} loss:{loss} right_rate :{right_rate} \")\n",
    "        # print(Y)\n",
    "    learning_rate *= 0.95**(epoch+1)\n",
    "    "
   ]
  },
  {
   "cell_type": "markdown",
   "id": "5d4de3d8-fc0d-4a77-badd-1af5025dd1c3",
   "metadata": {},
   "source": [
    "#### 1.4.4 预测结果展示"
   ]
  },
  {
   "cell_type": "code",
   "execution_count": 7,
   "id": "0eb8da7c-d493-4f48-985a-cfc23039437e",
   "metadata": {},
   "outputs": [
    {
     "name": "stdout",
     "output_type": "stream",
     "text": [
      "right_rate: 61.0%\n"
     ]
    }
   ],
   "source": [
    "\n",
    "batch_size = 1\n",
    "epoches =1\n",
    "img_x = []\n",
    "loss_y = []\n",
    "right_y = []\n",
    "count = 0\n",
    "for i in range(211,311,batch_size): \n",
    "    X = train_x[i:i+batch_size]\n",
    "    Y = train_y[i:i+batch_size]\n",
    "    loss,delta,right_rate= Forward(X,Y)\n",
    "    if right_rate==1 : count= count+1\n",
    "    # print(right_rate)\n",
    "print(f\"right_rate: {(count/(311-211))*100}%\")\n"
   ]
  },
  {
   "cell_type": "code",
   "execution_count": null,
   "id": "d794ffb5-0054-4120-92b1-92da1d22b156",
   "metadata": {},
   "outputs": [],
   "source": []
  }
 ],
 "metadata": {
  "kernelspec": {
   "display_name": "Python 3 (ipykernel)",
   "language": "python",
   "name": "python3"
  },
  "language_info": {
   "codemirror_mode": {
    "name": "ipython",
    "version": 3
   },
   "file_extension": ".py",
   "mimetype": "text/x-python",
   "name": "python",
   "nbconvert_exporter": "python",
   "pygments_lexer": "ipython3",
   "version": "3.8.10"
  }
 },
 "nbformat": 4,
 "nbformat_minor": 5
}
