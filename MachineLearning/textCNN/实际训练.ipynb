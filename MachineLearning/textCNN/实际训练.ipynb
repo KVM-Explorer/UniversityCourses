{
 "cells": [
  {
   "cell_type": "markdown",
   "id": "29a4a1e4-862e-479b-a22e-e84ed2da1d9d",
   "metadata": {
    "pycharm": {
     "name": "#%% md\n"
    }
   },
   "source": [
    "# textCNN"
   ]
  },
  {
   "cell_type": "code",
   "execution_count": null,
   "outputs": [],
   "source": [
    "## 1.检验阶段"
   ],
   "metadata": {
    "collapsed": false,
    "pycharm": {
     "name": "#%%\n"
    }
   }
  },
  {
   "cell_type": "markdown",
   "source": [
    "### 1.1引入模块库"
   ],
   "metadata": {
    "collapsed": false
   }
  },
  {
   "cell_type": "code",
   "execution_count": null,
   "outputs": [],
   "source": [
    "from MyModule import Net\n",
    "import cupy as cp"
   ],
   "metadata": {
    "collapsed": false,
    "pycharm": {
     "name": "#%%\n"
    }
   }
  },
  {
   "cell_type": "markdown",
   "source": [
    "### 1.2生成自定义测试数据集\n",
    "格式为：3 batch h=9 w=10 channels=1"
   ],
   "metadata": {
    "collapsed": false
   }
  },
  {
   "cell_type": "code",
   "execution_count": null,
   "outputs": [],
   "source": [
    "def loadTestData():        \n",
    "    x = cp.random.rand(90).reshape(1,9,10,1)\n",
    "    # print(x)\n",
    "    return x\n",
    "# loadTestData()"
   ],
   "metadata": {
    "collapsed": false,
    "pycharm": {
     "name": "#%%\n"
    }
   }
  },
  {
   "cell_type": "markdown",
   "source": [
    "### 1.3定义网络结构"
   ],
   "metadata": {
    "collapsed": false
   }
  },
  {
   "cell_type": "code",
   "execution_count": null,
   "outputs": [],
   "source": [
    "# 卷积层\n",
    "conv1 = Net.Conv(kernal=(3,10,1,2),stride=1)\n",
    "conv2 = Net.Conv(kernal=(4,10,1,2),stride=1)\n",
    "conv3 = Net.Conv(kernal=(5,10,1,2),stride=1)\n",
    "\n",
    "# 激活函数Relu\n",
    "relu1 = Net.Relu()\n",
    "relu2 = Net.Relu()\n",
    "relu3 = Net.Relu()\n",
    "\n",
    "# 池化层\n",
    "max_pooling1 = Net.Pool(ksize=2)\n",
    "max_pooling2 = Net.Pool(ksize=2)\n",
    "max_pooling3 = Net.Pool(ksize=2)\n",
    "\n",
    "# Flatten 层\n",
    "flatten1 = Net.Flatten()\n",
    "flatten2 = Net.Flatten()\n",
    "flatten3 = Net.Flatten()\n",
    "\n",
    "# Concat融合\n",
    "concat1 = Net.Concat()\n",
    "\n",
    "# 全连接层\n",
    "fc1 = Net.Fc(16,2)\n",
    "\n",
    "# softmax\n",
    "softmax = Net.Softmax()"
   ],
   "metadata": {
    "collapsed": false,
    "pycharm": {
     "name": "#%%\n"
    }
   }
  },
  {
   "cell_type": "code",
   "execution_count": null,
   "outputs": [],
   "source": [
    "def Forward(X,Y):\n",
    "    # 卷积\n",
    "    forward1 = conv1.forward(X)\n",
    "    forward2 = conv2.forward(X)\n",
    "    forward3 = conv3.forward(X)\n",
    "    # print(forward1.shape)\n",
    "    # relu\n",
    "    forward1 = relu1.forward(forward1)\n",
    "    forward2 = relu2.forward(forward2)\n",
    "    forward3 = relu3.forward(forward3)\n",
    "    # print(forward1.shape)\n",
    "    # 池化\n",
    "    forward1 = max_pooling1.forward(forward1)\n",
    "    forward2 = max_pooling2.forward(forward2)\n",
    "    forward3 = max_pooling3.forward(forward3)\n",
    "    # print(forward1.shape)\n",
    "    # flatten\n",
    "    forward1 = flatten1.forward(forward1)\n",
    "    forward2 = flatten2.forward(forward2)\n",
    "    forward3 = flatten3.forward(forward3)\n",
    "    print(forward1.shape)\n",
    "    # print(forward2.shape)\n",
    "    # print(forward3.shape)\n",
    "    # concate\n",
    "    forward = concat1.forward(forward1,forward2,forward3)\n",
    "    print(forward.shape)\n",
    "    # 全连接\n",
    "    forward = fc1.forward(forward)\n",
    "    # print(forward.shape)\n",
    "    # softmax\n",
    "    loss,delta = softmax.calcuteLoss(forward,Y)\n",
    "    predict = softmax.predict(forward)\n",
    "    right = 0\n",
    "    # print(predict.shape)\n",
    "    for i in range(3):\n",
    "        if cp.argmax(predict[i])==Y[i] :\n",
    "            right = right + 1\n",
    "    return loss,delta,right/3\n",
    "# print(f\"softmax_layer:{delta.shape}\" )\n",
    "# print(f\"loss:{loss} delta:{delta}\")\n",
    "\n",
    "learning_rate = 0.1"
   ],
   "metadata": {
    "collapsed": false,
    "pycharm": {
     "name": "#%%\n"
    }
   }
  },
  {
   "cell_type": "code",
   "execution_count": null,
   "outputs": [],
   "source": [
    "def Backward(delta):\n",
    "    # 全连接\n",
    "    backward = fc1.backward(delta,learning_rate)\n",
    "    # print(f\"fc:{backward.shape}\")\n",
    "    # concate\n",
    "    backward1,backward2,backward3 =  concat1.backward(backward)\n",
    "    # print(f\"concate:{backward1.shape} {backward2.shape} {backward3.shape}\")\n",
    "    # flatten\n",
    "    backward1 = flatten1.backward(backward1)\n",
    "    backward2 = flatten2.backward(backward2)\n",
    "    backward3 = flatten3.backward(backward3)\n",
    "    # print(f\"flatten1:{backward1.shape} flatten2:{backward2.shape} flatten3:{backward3.shape}\")\n",
    "    # 池化\n",
    "    backward1 = max_pooling1.backward(backward1)\n",
    "    backward2 = max_pooling2.backward(backward2)\n",
    "    backward3 = max_pooling3.backward(backward3)\n",
    "    # print(f\"pool1:{backward1.shape} pool2:{backward2.shape} pool3:{backward3.shape}\")\n",
    "    # relu\n",
    "    backward1 = relu1.backward(backward1)\n",
    "    backward2 = relu2.backward(backward2)\n",
    "    backward3 = relu3.backward(backward3)\n",
    "    # 卷积\n",
    "    backward1 = conv1.backward(backward1,learning_rate)\n",
    "    backward2 = conv2.backward(backward2,learning_rate)\n",
    "    backward3 = conv3.backward(backward3,learning_rate)\n",
    "    # print(f\"反向传播完成\")\n",
    "    "
   ],
   "metadata": {
    "collapsed": false,
    "pycharm": {
     "name": "#%%\n"
    }
   }
  },
  {
   "cell_type": "markdown",
   "source": [
    "#### 1.4.3训练结果和损失展示"
   ],
   "metadata": {
    "collapsed": false
   }
  },
  {
   "cell_type": "code",
   "execution_count": null,
   "outputs": [],
   "source": [
    "for i in range(1001):\n",
    "    data = loadTestData()\n",
    "   \n",
    "    loss,delta,right_rate= Forward(X,Y)\n",
    "    Backward(delta)\n",
    "    if(i%100==0) : print(f\"epoch:{i}/{100} loss:{loss} right_rate :{right_rate} softmax:{softmax.softmax}\")"
   ],
   "metadata": {
    "collapsed": false,
    "pycharm": {
     "name": "#%%\n"
    }
   }
  }
 ],
 "metadata": {
  "kernelspec": {
   "display_name": "Python 3 (ipykernel)",
   "language": "python",
   "name": "python3"
  },
  "language_info": {
   "codemirror_mode": {
    "name": "ipython",
    "version": 3
   },
   "file_extension": ".py",
   "mimetype": "text/x-python",
   "name": "python",
   "nbconvert_exporter": "python",
   "pygments_lexer": "ipython3",
   "version": "3.8.10"
  }
 },
 "nbformat": 4,
 "nbformat_minor": 5
}